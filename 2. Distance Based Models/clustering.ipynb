{
  "cells": [
    {
      "cell_type": "markdown",
      "metadata": {
        "id": "wKqT5-Y-vFnO"
      },
      "source": [
        "# Exercizes on clustering"
      ]
    },
    {
      "cell_type": "markdown",
      "metadata": {
        "id": "yvqSOylsvFnR"
      },
      "source": [
        "Here you can find a program to read a data file in csv format. \n",
        "\n",
        "The data file has the following heading:\n",
        "    number of samples, number of features\n",
        "    list of the names of the features (separated by comma)\n",
        "    \n",
        "The remaining lines contain an example per row.\n",
        "For each row there is a list of real numbers (commas separated) which are the feature values.   "
      ]
    },
    {
      "cell_type": "code",
      "execution_count": null,
      "metadata": {
        "colab": {
          "base_uri": "https://localhost:8080/"
        },
        "id": "t4b8xN2evFnT",
        "outputId": "07497095-215d-486a-b3c0-4a2089f0b275"
      },
      "outputs": [],
      "source": [
        "import csv\n",
        "import sys\n",
        "from os.path import join\n",
        "from sklearn.cluster import KMeans, DBSCAN\n",
        "from sklearn.preprocessing import StandardScaler\n",
        "import matplotlib.pyplot as plt\n",
        "import numpy as np\n",
        "\n",
        "data_path=\"./data/\"\n",
        "color = ['b','g','r','c','m','y','k','w']\n",
        "file_path_1 = join(data_path, \"3-clusters.csv\")\n",
        "file_path_2 = join(data_path, \"dataset-DBSCAN.csv\")\n",
        "file_path_3 = join(data_path, \"CURE-complete.csv\")"
      ]
    },
    {
      "cell_type": "code",
      "execution_count": null,
      "metadata": {},
      "outputs": [],
      "source": [
        "def load_data(file_path):\n",
        "   with open(file_path) as csv_file:\n",
        "       data_file = csv.reader(csv_file,delimiter=',')\n",
        "\n",
        "       header = next(data_file)\n",
        "       n_samples = int(header[0])\n",
        "       n_features = int(header[1])\n",
        "       feature_names = np.array(next(data_file))\n",
        "\n",
        "       data_list = [iter for iter in data_file]\n",
        "       data = np.asarray(data_list, dtype=np.float64)                  \n",
        "       \n",
        "   return(data,feature_names,n_samples,n_features)\n",
        "\n",
        "def plot_dataset(x, y, labels, title='Plot', colors=None, single_plot=True, **kwargs):\n",
        "    if single_plot:\n",
        "        fig = plt.figure(figsize=(8,8))\n",
        "        plt.suptitle(title)\n",
        "    plt.grid(True, alpha=0.4)\n",
        "    plt.xlabel(labels[0])\n",
        "    plt.ylabel(labels[1])\n",
        "    plt.scatter(x, y, marker='.', c=colors, **kwargs)\n",
        " \n",
        "data1, feature_names1, n_samples1, n_features1 = load_data(file_path_1)\n",
        "data2, feature_names2, n_samples2, n_features2 = load_data(file_path_2)\n",
        "data3, feature_names3, n_samples3, n_features3 = load_data(file_path_3)\n",
        "\n",
        "print(f\"dataset n. 1 - n. samples: {n_samples1}, n. features: {n_features1}\")\n",
        "print(f\"dataset n. 2 - n. samples: {n_samples2}, n. features: {n_features2}\")\n",
        "print(f\"dataset n. 3 - n. samples: {n_samples3}, n. features: {n_features3}\")"
      ]
    },
    {
      "cell_type": "markdown",
      "metadata": {
        "id": "CYlG_qzmvFnb"
      },
      "source": [
        "### Plot dataset n.1"
      ]
    },
    {
      "cell_type": "code",
      "execution_count": null,
      "metadata": {
        "colab": {
          "base_uri": "https://localhost:8080/",
          "height": 582
        },
        "id": "iQJn0s_GvFnc",
        "outputId": "10e020fb-a1cc-4907-f7f2-bc3043f8d63b"
      },
      "outputs": [],
      "source": [
        "plot_dataset(data1[:,0], data1[:,1], feature_names1, title='Dataset n. 1 of data points')"
      ]
    },
    {
      "cell_type": "markdown",
      "metadata": {
        "collapsed": false,
        "id": "vE-s8E1qvFni"
      },
      "source": [
        "### Plot dataset n.2"
      ]
    },
    {
      "cell_type": "code",
      "execution_count": null,
      "metadata": {
        "colab": {
          "base_uri": "https://localhost:8080/",
          "height": 708
        },
        "id": "-lC-ioQivFnj",
        "outputId": "49e897fc-179b-4363-cbbe-8ce64976a4bf"
      },
      "outputs": [],
      "source": [
        "plot_dataset(data2[:,0], data2[:,1], feature_names2, title='Dataset n. 2 of data points')"
      ]
    },
    {
      "cell_type": "markdown",
      "metadata": {
        "collapsed": false,
        "id": "qw4fkNlxvFno"
      },
      "source": [
        "### Plot dataset n.3"
      ]
    },
    {
      "cell_type": "code",
      "execution_count": null,
      "metadata": {
        "colab": {
          "base_uri": "https://localhost:8080/",
          "height": 582
        },
        "id": "NzgZFq0rvFnp",
        "outputId": "0321b883-d091-41f8-a09e-812aa62aacd1"
      },
      "outputs": [],
      "source": [
        "plot_dataset(data3[:,0], data3[:,1], feature_names3, title='Dataset n. 3 of data points', s=2)"
      ]
    },
    {
      "cell_type": "markdown",
      "metadata": {
        "id": "8Oe8u7LzvFnu"
      },
      "source": [
        "### Clustering with K-means on the dataset n.1"
      ]
    },
    {
      "cell_type": "code",
      "execution_count": null,
      "metadata": {
        "colab": {
          "base_uri": "https://localhost:8080/"
        },
        "id": "_sFKDDg5vFnu",
        "outputId": "fdb67a0a-c1b1-4998-b737-7ab7fc98c2aa"
      },
      "outputs": [],
      "source": [
        "k = 3\n",
        "kmeans = KMeans(n_clusters=k, random_state=0).fit(data1)\n",
        "\n",
        "prediction = [color[kmeans.labels_[i]] for i in range(data1.shape[0])]\n",
        "plot_dataset(data1[:,0], data1[:,1], feature_names1, title='Clustered points in dataset n. 1', colors=prediction)"
      ]
    },
    {
      "cell_type": "markdown",
      "metadata": {
        "collapsed": true,
        "id": "aHrPIB69vFn4"
      },
      "source": [
        "### Clustering with K-means & DBSCAN on the dataset n.2"
      ]
    },
    {
      "cell_type": "code",
      "execution_count": null,
      "metadata": {},
      "outputs": [],
      "source": [
        "k = 4\n",
        "kmeans = KMeans(n_clusters=k, random_state=0).fit(data2)\n",
        "dbscan = DBSCAN(min_samples=5, eps=0.04).fit(StandardScaler().fit_transform(data2))\n",
        "\n",
        "km_prediction = [color[kmeans.labels_[i]] for i in range(data2.shape[0])]\n",
        "db_prediction = [color[dbscan.labels_[i]] for i in range(data2.shape[0])]\n",
        "\n",
        "fig = plt.figure(figsize=(20,10))\n",
        "\n",
        "plt.subplot(1, 2, 1)\n",
        "plt.title('K-Means Clustering of dataset n.2')\n",
        "plot_dataset(data2[:,0], data2[:,1], feature_names2, colors=km_prediction, single_plot=False, s=5)\n",
        "\n",
        "plt.subplot(1, 2, 2)\n",
        "plt.title('DBSCAN Clustering of dataset n.2')\n",
        "plot_dataset(data2[:,0], data2[:,1], feature_names2, colors=db_prediction, single_plot=False, s=5)"
      ]
    },
    {
      "cell_type": "markdown",
      "metadata": {
        "id": "CNpz_9QIvFoB"
      },
      "source": [
        "### Clustering with K-means & DBSCAN on the dataset n.3"
      ]
    },
    {
      "cell_type": "code",
      "execution_count": null,
      "metadata": {
        "id": "EMOqkzXXvFoC"
      },
      "outputs": [],
      "source": [
        "k = 5\n",
        "kmeans = KMeans(n_clusters=k, random_state=0).fit(data3)\n",
        "\n",
        "factor = 0.1\n",
        "subset_width = int(len(data3) * factor)\n",
        "\n",
        "data3_subset = np.random.permutation(data3)[:subset_width]\n",
        "dbscan = DBSCAN(min_samples=40, eps=.14).fit(StandardScaler().fit_transform(data3_subset))\n",
        "\n",
        "km_prediction = [color[kmeans.labels_[i]] for i in range(data3.shape[0])]\n",
        "db_prediction = [color[dbscan.labels_[i]] for i in range(data3_subset.shape[0])]\n",
        "\n",
        "fig = plt.figure(figsize=(20,10))\n",
        "\n",
        "plt.subplot(1, 2, 1)\n",
        "plt.title('K-Means Clustering of dataset n.3')\n",
        "plot_dataset(data3[:,0], data3[:,1], feature_names3, colors=km_prediction, single_plot=False, s=5)\n",
        "\n",
        "plt.subplot(1, 2, 2)\n",
        "plt.title('DBSCAN Clustering of dataset n.3')\n",
        "plot_dataset(data3_subset[:,0], data3_subset[:,1], feature_names3, colors=db_prediction, single_plot=False, s=5)"
      ]
    },
    {
      "cell_type": "markdown",
      "metadata": {
        "collapsed": true,
        "id": "kFBvjRe8vFoI"
      },
      "source": [
        "In the following cells I propose you to write a program that computes with a statistical measure of your choice a quantitative evaluation of clusters in the three datasets.\n",
        "\n",
        "**Note:**\n",
        "It is advisable to execute K-means a certain number of times (let us try 10 times) and then select the clustering solution that gives the best value of the evaluation measure."
      ]
    },
    {
      "cell_type": "code",
      "execution_count": null,
      "metadata": {
        "id": "-wfdeSOQvFoJ"
      },
      "outputs": [],
      "source": []
    },
    {
      "cell_type": "markdown",
      "metadata": {
        "id": "AYWD1ybIvFoN"
      },
      "source": [
        "As already done with classification by k-nn, plot in the cell below the quantitative measure of your choice (used above) with respect to an increasing value of k (the number of clusters) so that the best value of k can be selected."
      ]
    },
    {
      "cell_type": "code",
      "execution_count": null,
      "metadata": {
        "id": "eOOnN0G0vFoN"
      },
      "outputs": [],
      "source": []
    },
    {
      "cell_type": "markdown",
      "metadata": {
        "id": "-fMZ_kNs0nZM"
      },
      "source": [
        "\n",
        "1. Set *Minpts* to a number (say **10**).\n",
        "2. Compute the **reachability distance** of the **10-th nearest neighbour ** for each data-point.\n",
        "3. Sort the set of reachability distances you obtained in an increasing way.\n",
        "4. Plot the sorted reachability distances\n",
        "5. Find the **elbow** of the diagram => it gives the eps value combined with Minpts=10.\n",
        "6. Try this combined pair of parameters on the dataset you chose, with DBSCAN."
      ]
    },
    {
      "cell_type": "code",
      "execution_count": null,
      "metadata": {
        "id": "PcIMJlz63X5H"
      },
      "outputs": [],
      "source": []
    }
  ],
  "metadata": {
    "anaconda-cloud": {},
    "colab": {
      "name": "clustering-copy_for_students_aa_21_22.ipynb",
      "provenance": []
    },
    "interpreter": {
      "hash": "a7d52d70aebee111e5705b9224c39d8f420e6c95f40b264dbe3ac6acaa172387"
    },
    "kernelspec": {
      "display_name": "Python [conda env:aaaid]",
      "language": "python",
      "name": "python3"
    },
    "language_info": {
      "codemirror_mode": {
        "name": "ipython",
        "version": 3
      },
      "file_extension": ".py",
      "mimetype": "text/x-python",
      "name": "python",
      "nbconvert_exporter": "python",
      "pygments_lexer": "ipython3",
      "version": "3.8.6"
    }
  },
  "nbformat": 4,
  "nbformat_minor": 0
}
