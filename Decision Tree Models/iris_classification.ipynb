{
 "cells": [
  {
   "cell_type": "code",
   "execution_count": 195,
   "metadata": {},
   "outputs": [],
   "source": [
    "import numpy as np\n",
    "from sklearn import tree\n",
    "from sklearn.datasets import load_iris\n",
    "from sklearn.model_selection import train_test_split\n",
    "from sklearn.metrics import accuracy_score, confusion_matrix, classification_report\n",
    "import pandas as pd\n",
    "import graphviz\n",
    "import matplotlib.pyplot as plt"
   ]
  },
  {
   "cell_type": "code",
   "execution_count": 196,
   "metadata": {},
   "outputs": [],
   "source": [
    "# Parameters\n",
    "random_state = 42\n",
    "min_samples_leaf = 5"
   ]
  },
  {
   "cell_type": "markdown",
   "metadata": {},
   "source": [
    "## 1) Get an artificial inflation of some class in the training set by a given factor: 10 (weigh more the classes virginica e versicolor which are more difficult to discriminate). Learn the tree in these conditions."
   ]
  },
  {
   "cell_type": "code",
   "execution_count": 197,
   "metadata": {},
   "outputs": [
    {
     "data": {
      "text/html": [
       "<div>\n",
       "<style scoped>\n",
       "    .dataframe tbody tr th:only-of-type {\n",
       "        vertical-align: middle;\n",
       "    }\n",
       "\n",
       "    .dataframe tbody tr th {\n",
       "        vertical-align: top;\n",
       "    }\n",
       "\n",
       "    .dataframe thead th {\n",
       "        text-align: right;\n",
       "    }\n",
       "</style>\n",
       "<table border=\"1\" class=\"dataframe\">\n",
       "  <thead>\n",
       "    <tr style=\"text-align: right;\">\n",
       "      <th></th>\n",
       "      <th>0</th>\n",
       "      <th>1</th>\n",
       "      <th>2</th>\n",
       "      <th>3</th>\n",
       "      <th>4</th>\n",
       "      <th>5</th>\n",
       "      <th>6</th>\n",
       "      <th>7</th>\n",
       "      <th>8</th>\n",
       "      <th>9</th>\n",
       "      <th>...</th>\n",
       "      <th>200</th>\n",
       "      <th>201</th>\n",
       "      <th>202</th>\n",
       "      <th>203</th>\n",
       "      <th>204</th>\n",
       "      <th>205</th>\n",
       "      <th>206</th>\n",
       "      <th>207</th>\n",
       "      <th>208</th>\n",
       "      <th>209</th>\n",
       "    </tr>\n",
       "  </thead>\n",
       "  <tbody>\n",
       "    <tr>\n",
       "      <th>prediction</th>\n",
       "      <td>1</td>\n",
       "      <td>2</td>\n",
       "      <td>1</td>\n",
       "      <td>1</td>\n",
       "      <td>0</td>\n",
       "      <td>1</td>\n",
       "      <td>1</td>\n",
       "      <td>1</td>\n",
       "      <td>1</td>\n",
       "      <td>2</td>\n",
       "      <td>...</td>\n",
       "      <td>1</td>\n",
       "      <td>2</td>\n",
       "      <td>2</td>\n",
       "      <td>1</td>\n",
       "      <td>1</td>\n",
       "      <td>2</td>\n",
       "      <td>1</td>\n",
       "      <td>1</td>\n",
       "      <td>2</td>\n",
       "      <td>1</td>\n",
       "    </tr>\n",
       "    <tr>\n",
       "      <th>reference</th>\n",
       "      <td>1</td>\n",
       "      <td>2</td>\n",
       "      <td>1</td>\n",
       "      <td>1</td>\n",
       "      <td>0</td>\n",
       "      <td>1</td>\n",
       "      <td>1</td>\n",
       "      <td>1</td>\n",
       "      <td>1</td>\n",
       "      <td>2</td>\n",
       "      <td>...</td>\n",
       "      <td>1</td>\n",
       "      <td>2</td>\n",
       "      <td>2</td>\n",
       "      <td>1</td>\n",
       "      <td>1</td>\n",
       "      <td>2</td>\n",
       "      <td>1</td>\n",
       "      <td>1</td>\n",
       "      <td>2</td>\n",
       "      <td>1</td>\n",
       "    </tr>\n",
       "  </tbody>\n",
       "</table>\n",
       "<p>2 rows × 210 columns</p>\n",
       "</div>"
      ],
      "text/plain": [
       "            0    1    2    3    4    5    6    7    8    9    ...  200  201  \\\n",
       "prediction    1    2    1    1    0    1    1    1    1    2  ...    1    2   \n",
       "reference     1    2    1    1    0    1    1    1    1    2  ...    1    2   \n",
       "\n",
       "            202  203  204  205  206  207  208  209  \n",
       "prediction    2    1    1    2    1    1    2    1  \n",
       "reference     2    1    1    2    1    1    2    1  \n",
       "\n",
       "[2 rows x 210 columns]"
      ]
     },
     "execution_count": 197,
     "metadata": {},
     "output_type": "execute_result"
    }
   ],
   "source": [
    "# data, target = load_iris(return_X_y=True)\n",
    "iris = load_iris()\n",
    "inflation_factor = 10\n",
    "\n",
    "# Compute the repetitions of each elem of the dataset\n",
    "repetitions = np.clip(iris.target * inflation_factor, a_min=1, a_max=inflation_factor)\n",
    "\n",
    "# Apply inflation to dataset\n",
    "inflated_data = np.repeat(iris.data, repetitions, axis=0)\n",
    "inflated_target = np.repeat(iris.target, repetitions, axis=0)\n",
    "\n",
    "# Get train & test datasets\n",
    "X_train, X_test, y_train, y_test_inf = train_test_split(inflated_data, inflated_target, test_size=0.2, random_state=random_state)\n",
    "\n",
    "# Learning of the tree\n",
    "clf_inflated = tree.DecisionTreeClassifier(criterion=\"entropy\", random_state=random_state, min_samples_leaf=5)\n",
    "clf_inflated = clf_inflated.fit(X_train, y_train)\n",
    "\n",
    "# Get predictions\n",
    "y_pred_inf = clf_inflated.predict(X_test)\n",
    "\n",
    "# Show pairs\n",
    "pd.DataFrame(np.column_stack((y_pred_inf, y_test_inf)).T, index=['prediction', 'reference'])"
   ]
  },
  {
   "cell_type": "markdown",
   "metadata": {},
   "source": [
    "### Evaluation"
   ]
  },
  {
   "cell_type": "code",
   "execution_count": 198,
   "metadata": {},
   "outputs": [
    {
     "name": "stdout",
     "output_type": "stream",
     "text": [
      "Accuracy: 100.0%\n",
      "              precision    recall  f1-score   support\n",
      "\n",
      "           0       1.00      1.00      1.00        11\n",
      "           1       1.00      1.00      1.00       104\n",
      "           2       1.00      1.00      1.00        95\n",
      "\n",
      "    accuracy                           1.00       210\n",
      "   macro avg       1.00      1.00      1.00       210\n",
      "weighted avg       1.00      1.00      1.00       210\n",
      "\n"
     ]
    }
   ],
   "source": [
    "accuracy = accuracy_score(y_test_inf, y_pred_inf)\n",
    "report = classification_report(y_test_inf, y_pred_inf, labels=[0, 1, 2])\n",
    "\n",
    "print(f'Accuracy: {accuracy * 100}%')\n",
    "print(report)"
   ]
  },
  {
   "cell_type": "markdown",
   "metadata": {},
   "source": [
    "### Graph"
   ]
  },
  {
   "cell_type": "code",
   "execution_count": 199,
   "metadata": {},
   "outputs": [
    {
     "data": {
      "image/svg+xml": "<?xml version=\"1.0\" encoding=\"UTF-8\" standalone=\"no\"?>\n<!DOCTYPE svg PUBLIC \"-//W3C//DTD SVG 1.1//EN\"\n \"http://www.w3.org/Graphics/SVG/1.1/DTD/svg11.dtd\">\n<!-- Generated by graphviz version 3.0.0 (20220226.1711)\n -->\n<!-- Title: Tree Pages: 1 -->\n<svg width=\"927pt\" height=\"671pt\"\n viewBox=\"0.00 0.00 927.00 671.00\" xmlns=\"http://www.w3.org/2000/svg\" xmlns:xlink=\"http://www.w3.org/1999/xlink\">\n<g id=\"graph0\" class=\"graph\" transform=\"scale(1 1) rotate(0) translate(4 667)\">\n<title>Tree</title>\n<polygon fill=\"white\" stroke=\"transparent\" points=\"-4,4 -4,-667 923,-667 923,4 -4,4\"/>\n<!-- 0 -->\n<g id=\"node1\" class=\"node\">\n<title>0</title>\n<path fill=\"#fcfbfe\" stroke=\"black\" d=\"M379,-663C379,-663 238,-663 238,-663 232,-663 226,-657 226,-651 226,-651 226,-592 226,-592 226,-586 232,-580 238,-580 238,-580 379,-580 379,-580 385,-580 391,-586 391,-592 391,-592 391,-651 391,-651 391,-657 385,-663 379,-663\"/>\n<text text-anchor=\"start\" x=\"234\" y=\"-647.8\" font-family=\"Helvetica,sans-Serif\" font-size=\"14.00\">petal length (cm) ≤ 4.75</text>\n<text text-anchor=\"start\" x=\"258.5\" y=\"-632.8\" font-family=\"Helvetica,sans-Serif\" font-size=\"14.00\">entropy = 1.225</text>\n<text text-anchor=\"start\" x=\"261\" y=\"-617.8\" font-family=\"Helvetica,sans-Serif\" font-size=\"14.00\">samples = 840</text>\n<text text-anchor=\"start\" x=\"239.5\" y=\"-602.8\" font-family=\"Helvetica,sans-Serif\" font-size=\"14.00\">value = [39, 396, 405]</text>\n<text text-anchor=\"start\" x=\"258.5\" y=\"-587.8\" font-family=\"Helvetica,sans-Serif\" font-size=\"14.00\">class = virginica</text>\n</g>\n<!-- 1 -->\n<g id=\"node2\" class=\"node\">\n<title>1</title>\n<path fill=\"#52e891\" stroke=\"black\" d=\"M289,-544C289,-544 148,-544 148,-544 142,-544 136,-538 136,-532 136,-532 136,-473 136,-473 136,-467 142,-461 148,-461 148,-461 289,-461 289,-461 295,-461 301,-467 301,-473 301,-473 301,-532 301,-532 301,-538 295,-544 289,-544\"/>\n<text text-anchor=\"start\" x=\"144\" y=\"-528.8\" font-family=\"Helvetica,sans-Serif\" font-size=\"14.00\">petal length (cm) ≤ 2.45</text>\n<text text-anchor=\"start\" x=\"168.5\" y=\"-513.8\" font-family=\"Helvetica,sans-Serif\" font-size=\"14.00\">entropy = 0.575</text>\n<text text-anchor=\"start\" x=\"171\" y=\"-498.8\" font-family=\"Helvetica,sans-Serif\" font-size=\"14.00\">samples = 396</text>\n<text text-anchor=\"start\" x=\"158\" y=\"-483.8\" font-family=\"Helvetica,sans-Serif\" font-size=\"14.00\">value = [39, 351, 6]</text>\n<text text-anchor=\"start\" x=\"163\" y=\"-468.8\" font-family=\"Helvetica,sans-Serif\" font-size=\"14.00\">class = versicolor</text>\n</g>\n<!-- 0&#45;&gt;1 -->\n<g id=\"edge1\" class=\"edge\">\n<title>0&#45;&gt;1</title>\n<path fill=\"none\" stroke=\"black\" d=\"M277.27,-579.91C270.36,-570.92 262.97,-561.32 255.85,-552.05\"/>\n<polygon fill=\"black\" stroke=\"black\" points=\"258.54,-549.81 249.67,-544.02 252.99,-554.08 258.54,-549.81\"/>\n<text text-anchor=\"middle\" x=\"246.44\" y=\"-565.11\" font-family=\"Helvetica,sans-Serif\" font-size=\"14.00\">True</text>\n</g>\n<!-- 6 -->\n<g id=\"node7\" class=\"node\">\n<title>6</title>\n<path fill=\"#8f4fe8\" stroke=\"black\" d=\"M522,-544C522,-544 387,-544 387,-544 381,-544 375,-538 375,-532 375,-532 375,-473 375,-473 375,-467 381,-461 387,-461 387,-461 522,-461 522,-461 528,-461 534,-467 534,-473 534,-473 534,-532 534,-532 534,-538 528,-544 522,-544\"/>\n<text text-anchor=\"start\" x=\"383\" y=\"-528.8\" font-family=\"Helvetica,sans-Serif\" font-size=\"14.00\">petal width (cm) ≤ 1.75</text>\n<text text-anchor=\"start\" x=\"404.5\" y=\"-513.8\" font-family=\"Helvetica,sans-Serif\" font-size=\"14.00\">entropy = 0.473</text>\n<text text-anchor=\"start\" x=\"407\" y=\"-498.8\" font-family=\"Helvetica,sans-Serif\" font-size=\"14.00\">samples = 444</text>\n<text text-anchor=\"start\" x=\"394\" y=\"-483.8\" font-family=\"Helvetica,sans-Serif\" font-size=\"14.00\">value = [0, 45, 399]</text>\n<text text-anchor=\"start\" x=\"404.5\" y=\"-468.8\" font-family=\"Helvetica,sans-Serif\" font-size=\"14.00\">class = virginica</text>\n</g>\n<!-- 0&#45;&gt;6 -->\n<g id=\"edge6\" class=\"edge\">\n<title>0&#45;&gt;6</title>\n<path fill=\"none\" stroke=\"black\" d=\"M359.15,-579.91C371.04,-570.38 383.81,-560.15 396.01,-550.37\"/>\n<polygon fill=\"black\" stroke=\"black\" points=\"398.32,-553.01 403.94,-544.02 393.94,-547.54 398.32,-553.01\"/>\n<text text-anchor=\"middle\" x=\"401.2\" y=\"-565.17\" font-family=\"Helvetica,sans-Serif\" font-size=\"14.00\">False</text>\n</g>\n<!-- 2 -->\n<g id=\"node3\" class=\"node\">\n<title>2</title>\n<path fill=\"#e58139\" stroke=\"black\" d=\"M109,-417.5C109,-417.5 12,-417.5 12,-417.5 6,-417.5 0,-411.5 0,-405.5 0,-405.5 0,-361.5 0,-361.5 0,-355.5 6,-349.5 12,-349.5 12,-349.5 109,-349.5 109,-349.5 115,-349.5 121,-355.5 121,-361.5 121,-361.5 121,-405.5 121,-405.5 121,-411.5 115,-417.5 109,-417.5\"/>\n<text text-anchor=\"start\" x=\"18.5\" y=\"-402.3\" font-family=\"Helvetica,sans-Serif\" font-size=\"14.00\">entropy = 0.0</text>\n<text text-anchor=\"start\" x=\"17\" y=\"-387.3\" font-family=\"Helvetica,sans-Serif\" font-size=\"14.00\">samples = 39</text>\n<text text-anchor=\"start\" x=\"8\" y=\"-372.3\" font-family=\"Helvetica,sans-Serif\" font-size=\"14.00\">value = [39, 0, 0]</text>\n<text text-anchor=\"start\" x=\"14.5\" y=\"-357.3\" font-family=\"Helvetica,sans-Serif\" font-size=\"14.00\">class = setosa</text>\n</g>\n<!-- 1&#45;&gt;2 -->\n<g id=\"edge2\" class=\"edge\">\n<title>1&#45;&gt;2</title>\n<path fill=\"none\" stroke=\"black\" d=\"M163.68,-460.91C147.44,-448.88 129.69,-435.73 113.56,-423.79\"/>\n<polygon fill=\"black\" stroke=\"black\" points=\"115.41,-420.81 105.29,-417.67 111.24,-426.43 115.41,-420.81\"/>\n</g>\n<!-- 3 -->\n<g id=\"node4\" class=\"node\">\n<title>3</title>\n<path fill=\"#3ce583\" stroke=\"black\" d=\"M286,-425C286,-425 151,-425 151,-425 145,-425 139,-419 139,-413 139,-413 139,-354 139,-354 139,-348 145,-342 151,-342 151,-342 286,-342 286,-342 292,-342 298,-348 298,-354 298,-354 298,-413 298,-413 298,-419 292,-425 286,-425\"/>\n<text text-anchor=\"start\" x=\"147\" y=\"-409.8\" font-family=\"Helvetica,sans-Serif\" font-size=\"14.00\">petal width (cm) ≤ 1.65</text>\n<text text-anchor=\"start\" x=\"168.5\" y=\"-394.8\" font-family=\"Helvetica,sans-Serif\" font-size=\"14.00\">entropy = 0.123</text>\n<text text-anchor=\"start\" x=\"171\" y=\"-379.8\" font-family=\"Helvetica,sans-Serif\" font-size=\"14.00\">samples = 357</text>\n<text text-anchor=\"start\" x=\"162\" y=\"-364.8\" font-family=\"Helvetica,sans-Serif\" font-size=\"14.00\">value = [0, 351, 6]</text>\n<text text-anchor=\"start\" x=\"163\" y=\"-349.8\" font-family=\"Helvetica,sans-Serif\" font-size=\"14.00\">class = versicolor</text>\n</g>\n<!-- 1&#45;&gt;3 -->\n<g id=\"edge3\" class=\"edge\">\n<title>1&#45;&gt;3</title>\n<path fill=\"none\" stroke=\"black\" d=\"M218.5,-460.91C218.5,-452.65 218.5,-443.86 218.5,-435.3\"/>\n<polygon fill=\"black\" stroke=\"black\" points=\"222,-435.02 218.5,-425.02 215,-435.02 222,-435.02\"/>\n</g>\n<!-- 4 -->\n<g id=\"node5\" class=\"node\">\n<title>4</title>\n<path fill=\"#39e581\" stroke=\"black\" d=\"M130,-298.5C130,-298.5 25,-298.5 25,-298.5 19,-298.5 13,-292.5 13,-286.5 13,-286.5 13,-242.5 13,-242.5 13,-236.5 19,-230.5 25,-230.5 25,-230.5 130,-230.5 130,-230.5 136,-230.5 142,-236.5 142,-242.5 142,-242.5 142,-286.5 142,-286.5 142,-292.5 136,-298.5 130,-298.5\"/>\n<text text-anchor=\"start\" x=\"35.5\" y=\"-283.3\" font-family=\"Helvetica,sans-Serif\" font-size=\"14.00\">entropy = 0.0</text>\n<text text-anchor=\"start\" x=\"30\" y=\"-268.3\" font-family=\"Helvetica,sans-Serif\" font-size=\"14.00\">samples = 351</text>\n<text text-anchor=\"start\" x=\"21\" y=\"-253.3\" font-family=\"Helvetica,sans-Serif\" font-size=\"14.00\">value = [0, 351, 0]</text>\n<text text-anchor=\"start\" x=\"22\" y=\"-238.3\" font-family=\"Helvetica,sans-Serif\" font-size=\"14.00\">class = versicolor</text>\n</g>\n<!-- 3&#45;&gt;4 -->\n<g id=\"edge4\" class=\"edge\">\n<title>3&#45;&gt;4</title>\n<path fill=\"none\" stroke=\"black\" d=\"M169.58,-341.91C155.22,-329.99 139.53,-316.98 125.25,-305.12\"/>\n<polygon fill=\"black\" stroke=\"black\" points=\"127.4,-302.36 117.47,-298.67 122.93,-307.75 127.4,-302.36\"/>\n</g>\n<!-- 5 -->\n<g id=\"node6\" class=\"node\">\n<title>5</title>\n<path fill=\"#8139e5\" stroke=\"black\" d=\"M264.5,-298.5C264.5,-298.5 172.5,-298.5 172.5,-298.5 166.5,-298.5 160.5,-292.5 160.5,-286.5 160.5,-286.5 160.5,-242.5 160.5,-242.5 160.5,-236.5 166.5,-230.5 172.5,-230.5 172.5,-230.5 264.5,-230.5 264.5,-230.5 270.5,-230.5 276.5,-236.5 276.5,-242.5 276.5,-242.5 276.5,-286.5 276.5,-286.5 276.5,-292.5 270.5,-298.5 264.5,-298.5\"/>\n<text text-anchor=\"start\" x=\"176.5\" y=\"-283.3\" font-family=\"Helvetica,sans-Serif\" font-size=\"14.00\">entropy = 0.0</text>\n<text text-anchor=\"start\" x=\"179\" y=\"-268.3\" font-family=\"Helvetica,sans-Serif\" font-size=\"14.00\">samples = 6</text>\n<text text-anchor=\"start\" x=\"170\" y=\"-253.3\" font-family=\"Helvetica,sans-Serif\" font-size=\"14.00\">value = [0, 0, 6]</text>\n<text text-anchor=\"start\" x=\"168.5\" y=\"-238.3\" font-family=\"Helvetica,sans-Serif\" font-size=\"14.00\">class = virginica</text>\n</g>\n<!-- 3&#45;&gt;5 -->\n<g id=\"edge5\" class=\"edge\">\n<title>3&#45;&gt;5</title>\n<path fill=\"none\" stroke=\"black\" d=\"M218.5,-341.91C218.5,-331.2 218.5,-319.62 218.5,-308.78\"/>\n<polygon fill=\"black\" stroke=\"black\" points=\"222,-308.67 218.5,-298.67 215,-308.67 222,-308.67\"/>\n</g>\n<!-- 7 -->\n<g id=\"node8\" class=\"node\">\n<title>7</title>\n<path fill=\"#effdf5\" stroke=\"black\" d=\"M525,-425C525,-425 384,-425 384,-425 378,-425 372,-419 372,-413 372,-413 372,-354 372,-354 372,-348 378,-342 384,-342 384,-342 525,-342 525,-342 531,-342 537,-348 537,-354 537,-354 537,-413 537,-413 537,-419 531,-425 525,-425\"/>\n<text text-anchor=\"start\" x=\"380\" y=\"-409.8\" font-family=\"Helvetica,sans-Serif\" font-size=\"14.00\">petal length (cm) ≤ 4.95</text>\n<text text-anchor=\"start\" x=\"404.5\" y=\"-394.8\" font-family=\"Helvetica,sans-Serif\" font-size=\"14.00\">entropy = 0.999</text>\n<text text-anchor=\"start\" x=\"411\" y=\"-379.8\" font-family=\"Helvetica,sans-Serif\" font-size=\"14.00\">samples = 69</text>\n<text text-anchor=\"start\" x=\"398\" y=\"-364.8\" font-family=\"Helvetica,sans-Serif\" font-size=\"14.00\">value = [0, 36, 33]</text>\n<text text-anchor=\"start\" x=\"399\" y=\"-349.8\" font-family=\"Helvetica,sans-Serif\" font-size=\"14.00\">class = versicolor</text>\n</g>\n<!-- 6&#45;&gt;7 -->\n<g id=\"edge7\" class=\"edge\">\n<title>6&#45;&gt;7</title>\n<path fill=\"none\" stroke=\"black\" d=\"M454.5,-460.91C454.5,-452.65 454.5,-443.86 454.5,-435.3\"/>\n<polygon fill=\"black\" stroke=\"black\" points=\"458,-435.02 454.5,-425.02 451,-435.02 458,-435.02\"/>\n</g>\n<!-- 14 -->\n<g id=\"node15\" class=\"node\">\n<title>14</title>\n<path fill=\"#843ee6\" stroke=\"black\" d=\"M765,-425C765,-425 624,-425 624,-425 618,-425 612,-419 612,-413 612,-413 612,-354 612,-354 612,-348 618,-342 624,-342 624,-342 765,-342 765,-342 771,-342 777,-348 777,-354 777,-354 777,-413 777,-413 777,-419 771,-425 765,-425\"/>\n<text text-anchor=\"start\" x=\"620\" y=\"-409.8\" font-family=\"Helvetica,sans-Serif\" font-size=\"14.00\">petal length (cm) ≤ 4.85</text>\n<text text-anchor=\"start\" x=\"644.5\" y=\"-394.8\" font-family=\"Helvetica,sans-Serif\" font-size=\"14.00\">entropy = 0.163</text>\n<text text-anchor=\"start\" x=\"647\" y=\"-379.8\" font-family=\"Helvetica,sans-Serif\" font-size=\"14.00\">samples = 375</text>\n<text text-anchor=\"start\" x=\"638\" y=\"-364.8\" font-family=\"Helvetica,sans-Serif\" font-size=\"14.00\">value = [0, 9, 366]</text>\n<text text-anchor=\"start\" x=\"644.5\" y=\"-349.8\" font-family=\"Helvetica,sans-Serif\" font-size=\"14.00\">class = virginica</text>\n</g>\n<!-- 6&#45;&gt;14 -->\n<g id=\"edge14\" class=\"edge\">\n<title>6&#45;&gt;14</title>\n<path fill=\"none\" stroke=\"black\" d=\"M534.08,-462.7C556.03,-452 580.02,-440.31 602.6,-429.3\"/>\n<polygon fill=\"black\" stroke=\"black\" points=\"604.39,-432.32 611.84,-424.79 601.32,-426.03 604.39,-432.32\"/>\n</g>\n<!-- 8 -->\n<g id=\"node9\" class=\"node\">\n<title>8</title>\n<path fill=\"#39e581\" stroke=\"black\" d=\"M410,-298.5C410,-298.5 307,-298.5 307,-298.5 301,-298.5 295,-292.5 295,-286.5 295,-286.5 295,-242.5 295,-242.5 295,-236.5 301,-230.5 307,-230.5 307,-230.5 410,-230.5 410,-230.5 416,-230.5 422,-236.5 422,-242.5 422,-242.5 422,-286.5 422,-286.5 422,-292.5 416,-298.5 410,-298.5\"/>\n<text text-anchor=\"start\" x=\"316.5\" y=\"-283.3\" font-family=\"Helvetica,sans-Serif\" font-size=\"14.00\">entropy = 0.0</text>\n<text text-anchor=\"start\" x=\"315\" y=\"-268.3\" font-family=\"Helvetica,sans-Serif\" font-size=\"14.00\">samples = 22</text>\n<text text-anchor=\"start\" x=\"306\" y=\"-253.3\" font-family=\"Helvetica,sans-Serif\" font-size=\"14.00\">value = [0, 22, 0]</text>\n<text text-anchor=\"start\" x=\"303\" y=\"-238.3\" font-family=\"Helvetica,sans-Serif\" font-size=\"14.00\">class = versicolor</text>\n</g>\n<!-- 7&#45;&gt;8 -->\n<g id=\"edge8\" class=\"edge\">\n<title>7&#45;&gt;8</title>\n<path fill=\"none\" stroke=\"black\" d=\"M421.19,-341.91C411.78,-330.43 401.53,-317.94 392.09,-306.44\"/>\n<polygon fill=\"black\" stroke=\"black\" points=\"394.76,-304.18 385.71,-298.67 389.35,-308.62 394.76,-304.18\"/>\n</g>\n<!-- 9 -->\n<g id=\"node10\" class=\"node\">\n<title>9</title>\n<path fill=\"#b68df0\" stroke=\"black\" d=\"M587,-306C587,-306 452,-306 452,-306 446,-306 440,-300 440,-294 440,-294 440,-235 440,-235 440,-229 446,-223 452,-223 452,-223 587,-223 587,-223 593,-223 599,-229 599,-235 599,-235 599,-294 599,-294 599,-300 593,-306 587,-306\"/>\n<text text-anchor=\"start\" x=\"448\" y=\"-290.8\" font-family=\"Helvetica,sans-Serif\" font-size=\"14.00\">petal width (cm) ≤ 1.55</text>\n<text text-anchor=\"start\" x=\"469.5\" y=\"-275.8\" font-family=\"Helvetica,sans-Serif\" font-size=\"14.00\">entropy = 0.879</text>\n<text text-anchor=\"start\" x=\"476\" y=\"-260.8\" font-family=\"Helvetica,sans-Serif\" font-size=\"14.00\">samples = 47</text>\n<text text-anchor=\"start\" x=\"463\" y=\"-245.8\" font-family=\"Helvetica,sans-Serif\" font-size=\"14.00\">value = [0, 14, 33]</text>\n<text text-anchor=\"start\" x=\"469.5\" y=\"-230.8\" font-family=\"Helvetica,sans-Serif\" font-size=\"14.00\">class = virginica</text>\n</g>\n<!-- 7&#45;&gt;9 -->\n<g id=\"edge9\" class=\"edge\">\n<title>7&#45;&gt;9</title>\n<path fill=\"none\" stroke=\"black\" d=\"M477.05,-341.91C481.89,-333.2 487.06,-323.9 492.06,-314.89\"/>\n<polygon fill=\"black\" stroke=\"black\" points=\"495.19,-316.46 496.99,-306.02 489.07,-313.06 495.19,-316.46\"/>\n</g>\n<!-- 10 -->\n<g id=\"node11\" class=\"node\">\n<title>10</title>\n<path fill=\"#8139e5\" stroke=\"black\" d=\"M410,-179.5C410,-179.5 313,-179.5 313,-179.5 307,-179.5 301,-173.5 301,-167.5 301,-167.5 301,-123.5 301,-123.5 301,-117.5 307,-111.5 313,-111.5 313,-111.5 410,-111.5 410,-111.5 416,-111.5 422,-117.5 422,-123.5 422,-123.5 422,-167.5 422,-167.5 422,-173.5 416,-179.5 410,-179.5\"/>\n<text text-anchor=\"start\" x=\"319.5\" y=\"-164.3\" font-family=\"Helvetica,sans-Serif\" font-size=\"14.00\">entropy = 0.0</text>\n<text text-anchor=\"start\" x=\"318\" y=\"-149.3\" font-family=\"Helvetica,sans-Serif\" font-size=\"14.00\">samples = 24</text>\n<text text-anchor=\"start\" x=\"309\" y=\"-134.3\" font-family=\"Helvetica,sans-Serif\" font-size=\"14.00\">value = [0, 0, 24]</text>\n<text text-anchor=\"start\" x=\"311.5\" y=\"-119.3\" font-family=\"Helvetica,sans-Serif\" font-size=\"14.00\">class = virginica</text>\n</g>\n<!-- 9&#45;&gt;10 -->\n<g id=\"edge10\" class=\"edge\">\n<title>9&#45;&gt;10</title>\n<path fill=\"none\" stroke=\"black\" d=\"M464.68,-222.91C448.44,-210.88 430.69,-197.73 414.56,-185.79\"/>\n<polygon fill=\"black\" stroke=\"black\" points=\"416.41,-182.81 406.29,-179.67 412.24,-188.43 416.41,-182.81\"/>\n</g>\n<!-- 11 -->\n<g id=\"node12\" class=\"node\">\n<title>11</title>\n<path fill=\"#b8f6d2\" stroke=\"black\" d=\"M593,-187C593,-187 452,-187 452,-187 446,-187 440,-181 440,-175 440,-175 440,-116 440,-116 440,-110 446,-104 452,-104 452,-104 593,-104 593,-104 599,-104 605,-110 605,-116 605,-116 605,-175 605,-175 605,-181 599,-187 593,-187\"/>\n<text text-anchor=\"start\" x=\"448\" y=\"-171.8\" font-family=\"Helvetica,sans-Serif\" font-size=\"14.00\">petal length (cm) ≤ 5.45</text>\n<text text-anchor=\"start\" x=\"472.5\" y=\"-156.8\" font-family=\"Helvetica,sans-Serif\" font-size=\"14.00\">entropy = 0.966</text>\n<text text-anchor=\"start\" x=\"479\" y=\"-141.8\" font-family=\"Helvetica,sans-Serif\" font-size=\"14.00\">samples = 23</text>\n<text text-anchor=\"start\" x=\"470\" y=\"-126.8\" font-family=\"Helvetica,sans-Serif\" font-size=\"14.00\">value = [0, 14, 9]</text>\n<text text-anchor=\"start\" x=\"467\" y=\"-111.8\" font-family=\"Helvetica,sans-Serif\" font-size=\"14.00\">class = versicolor</text>\n</g>\n<!-- 9&#45;&gt;11 -->\n<g id=\"edge11\" class=\"edge\">\n<title>9&#45;&gt;11</title>\n<path fill=\"none\" stroke=\"black\" d=\"M520.54,-222.91C520.75,-214.56 520.98,-205.67 521.2,-197.02\"/>\n<polygon fill=\"black\" stroke=\"black\" points=\"524.7,-197.11 521.46,-187.02 517.71,-196.93 524.7,-197.11\"/>\n</g>\n<!-- 12 -->\n<g id=\"node13\" class=\"node\">\n<title>12</title>\n<path fill=\"#39e581\" stroke=\"black\" d=\"M504,-68C504,-68 401,-68 401,-68 395,-68 389,-62 389,-56 389,-56 389,-12 389,-12 389,-6 395,0 401,0 401,0 504,0 504,0 510,0 516,-6 516,-12 516,-12 516,-56 516,-56 516,-62 510,-68 504,-68\"/>\n<text text-anchor=\"start\" x=\"410.5\" y=\"-52.8\" font-family=\"Helvetica,sans-Serif\" font-size=\"14.00\">entropy = 0.0</text>\n<text text-anchor=\"start\" x=\"409\" y=\"-37.8\" font-family=\"Helvetica,sans-Serif\" font-size=\"14.00\">samples = 14</text>\n<text text-anchor=\"start\" x=\"400\" y=\"-22.8\" font-family=\"Helvetica,sans-Serif\" font-size=\"14.00\">value = [0, 14, 0]</text>\n<text text-anchor=\"start\" x=\"397\" y=\"-7.8\" font-family=\"Helvetica,sans-Serif\" font-size=\"14.00\">class = versicolor</text>\n</g>\n<!-- 11&#45;&gt;12 -->\n<g id=\"edge12\" class=\"edge\">\n<title>11&#45;&gt;12</title>\n<path fill=\"none\" stroke=\"black\" d=\"M496.43,-103.73C490.84,-94.97 484.91,-85.7 479.29,-76.91\"/>\n<polygon fill=\"black\" stroke=\"black\" points=\"482.12,-74.84 473.79,-68.3 476.22,-78.61 482.12,-74.84\"/>\n</g>\n<!-- 13 -->\n<g id=\"node14\" class=\"node\">\n<title>13</title>\n<path fill=\"#8139e5\" stroke=\"black\" d=\"M638.5,-68C638.5,-68 546.5,-68 546.5,-68 540.5,-68 534.5,-62 534.5,-56 534.5,-56 534.5,-12 534.5,-12 534.5,-6 540.5,0 546.5,0 546.5,0 638.5,0 638.5,0 644.5,0 650.5,-6 650.5,-12 650.5,-12 650.5,-56 650.5,-56 650.5,-62 644.5,-68 638.5,-68\"/>\n<text text-anchor=\"start\" x=\"550.5\" y=\"-52.8\" font-family=\"Helvetica,sans-Serif\" font-size=\"14.00\">entropy = 0.0</text>\n<text text-anchor=\"start\" x=\"553\" y=\"-37.8\" font-family=\"Helvetica,sans-Serif\" font-size=\"14.00\">samples = 9</text>\n<text text-anchor=\"start\" x=\"544\" y=\"-22.8\" font-family=\"Helvetica,sans-Serif\" font-size=\"14.00\">value = [0, 0, 9]</text>\n<text text-anchor=\"start\" x=\"542.5\" y=\"-7.8\" font-family=\"Helvetica,sans-Serif\" font-size=\"14.00\">class = virginica</text>\n</g>\n<!-- 11&#45;&gt;13 -->\n<g id=\"edge13\" class=\"edge\">\n<title>11&#45;&gt;13</title>\n<path fill=\"none\" stroke=\"black\" d=\"M548.57,-103.73C554.16,-94.97 560.09,-85.7 565.71,-76.91\"/>\n<polygon fill=\"black\" stroke=\"black\" points=\"568.78,-78.61 571.21,-68.3 562.88,-74.84 568.78,-78.61\"/>\n</g>\n<!-- 15 -->\n<g id=\"node16\" class=\"node\">\n<title>15</title>\n<path fill=\"#c09cf2\" stroke=\"black\" d=\"M760,-306C760,-306 629,-306 629,-306 623,-306 617,-300 617,-294 617,-294 617,-235 617,-235 617,-229 623,-223 629,-223 629,-223 760,-223 760,-223 766,-223 772,-229 772,-235 772,-235 772,-294 772,-294 772,-300 766,-306 760,-306\"/>\n<text text-anchor=\"start\" x=\"625\" y=\"-290.8\" font-family=\"Helvetica,sans-Serif\" font-size=\"14.00\">sepal width (cm) ≤ 3.1</text>\n<text text-anchor=\"start\" x=\"644.5\" y=\"-275.8\" font-family=\"Helvetica,sans-Serif\" font-size=\"14.00\">entropy = 0.918</text>\n<text text-anchor=\"start\" x=\"651\" y=\"-260.8\" font-family=\"Helvetica,sans-Serif\" font-size=\"14.00\">samples = 27</text>\n<text text-anchor=\"start\" x=\"642\" y=\"-245.8\" font-family=\"Helvetica,sans-Serif\" font-size=\"14.00\">value = [0, 9, 18]</text>\n<text text-anchor=\"start\" x=\"644.5\" y=\"-230.8\" font-family=\"Helvetica,sans-Serif\" font-size=\"14.00\">class = virginica</text>\n</g>\n<!-- 14&#45;&gt;15 -->\n<g id=\"edge15\" class=\"edge\">\n<title>14&#45;&gt;15</title>\n<path fill=\"none\" stroke=\"black\" d=\"M694.5,-341.91C694.5,-333.65 694.5,-324.86 694.5,-316.3\"/>\n<polygon fill=\"black\" stroke=\"black\" points=\"698,-316.02 694.5,-306.02 691,-316.02 698,-316.02\"/>\n</g>\n<!-- 18 -->\n<g id=\"node19\" class=\"node\">\n<title>18</title>\n<path fill=\"#8139e5\" stroke=\"black\" d=\"M907,-298.5C907,-298.5 802,-298.5 802,-298.5 796,-298.5 790,-292.5 790,-286.5 790,-286.5 790,-242.5 790,-242.5 790,-236.5 796,-230.5 802,-230.5 802,-230.5 907,-230.5 907,-230.5 913,-230.5 919,-236.5 919,-242.5 919,-242.5 919,-286.5 919,-286.5 919,-292.5 913,-298.5 907,-298.5\"/>\n<text text-anchor=\"start\" x=\"812.5\" y=\"-283.3\" font-family=\"Helvetica,sans-Serif\" font-size=\"14.00\">entropy = 0.0</text>\n<text text-anchor=\"start\" x=\"807\" y=\"-268.3\" font-family=\"Helvetica,sans-Serif\" font-size=\"14.00\">samples = 348</text>\n<text text-anchor=\"start\" x=\"798\" y=\"-253.3\" font-family=\"Helvetica,sans-Serif\" font-size=\"14.00\">value = [0, 0, 348]</text>\n<text text-anchor=\"start\" x=\"804.5\" y=\"-238.3\" font-family=\"Helvetica,sans-Serif\" font-size=\"14.00\">class = virginica</text>\n</g>\n<!-- 14&#45;&gt;18 -->\n<g id=\"edge18\" class=\"edge\">\n<title>14&#45;&gt;18</title>\n<path fill=\"none\" stroke=\"black\" d=\"M750.01,-341.91C766.46,-329.88 784.44,-316.73 800.77,-304.79\"/>\n<polygon fill=\"black\" stroke=\"black\" points=\"803.14,-307.39 809.14,-298.67 799.01,-301.74 803.14,-307.39\"/>\n</g>\n<!-- 16 -->\n<g id=\"node17\" class=\"node\">\n<title>16</title>\n<path fill=\"#8139e5\" stroke=\"black\" d=\"M739,-179.5C739,-179.5 642,-179.5 642,-179.5 636,-179.5 630,-173.5 630,-167.5 630,-167.5 630,-123.5 630,-123.5 630,-117.5 636,-111.5 642,-111.5 642,-111.5 739,-111.5 739,-111.5 745,-111.5 751,-117.5 751,-123.5 751,-123.5 751,-167.5 751,-167.5 751,-173.5 745,-179.5 739,-179.5\"/>\n<text text-anchor=\"start\" x=\"648.5\" y=\"-164.3\" font-family=\"Helvetica,sans-Serif\" font-size=\"14.00\">entropy = 0.0</text>\n<text text-anchor=\"start\" x=\"647\" y=\"-149.3\" font-family=\"Helvetica,sans-Serif\" font-size=\"14.00\">samples = 18</text>\n<text text-anchor=\"start\" x=\"638\" y=\"-134.3\" font-family=\"Helvetica,sans-Serif\" font-size=\"14.00\">value = [0, 0, 18]</text>\n<text text-anchor=\"start\" x=\"640.5\" y=\"-119.3\" font-family=\"Helvetica,sans-Serif\" font-size=\"14.00\">class = virginica</text>\n</g>\n<!-- 15&#45;&gt;16 -->\n<g id=\"edge16\" class=\"edge\">\n<title>15&#45;&gt;16</title>\n<path fill=\"none\" stroke=\"black\" d=\"M693.11,-222.91C692.75,-212.2 692.35,-200.62 691.98,-189.78\"/>\n<polygon fill=\"black\" stroke=\"black\" points=\"695.47,-189.54 691.63,-179.67 688.48,-189.78 695.47,-189.54\"/>\n</g>\n<!-- 17 -->\n<g id=\"node18\" class=\"node\">\n<title>17</title>\n<path fill=\"#39e581\" stroke=\"black\" d=\"M884,-179.5C884,-179.5 781,-179.5 781,-179.5 775,-179.5 769,-173.5 769,-167.5 769,-167.5 769,-123.5 769,-123.5 769,-117.5 775,-111.5 781,-111.5 781,-111.5 884,-111.5 884,-111.5 890,-111.5 896,-117.5 896,-123.5 896,-123.5 896,-167.5 896,-167.5 896,-173.5 890,-179.5 884,-179.5\"/>\n<text text-anchor=\"start\" x=\"790.5\" y=\"-164.3\" font-family=\"Helvetica,sans-Serif\" font-size=\"14.00\">entropy = 0.0</text>\n<text text-anchor=\"start\" x=\"793\" y=\"-149.3\" font-family=\"Helvetica,sans-Serif\" font-size=\"14.00\">samples = 9</text>\n<text text-anchor=\"start\" x=\"784\" y=\"-134.3\" font-family=\"Helvetica,sans-Serif\" font-size=\"14.00\">value = [0, 9, 0]</text>\n<text text-anchor=\"start\" x=\"777\" y=\"-119.3\" font-family=\"Helvetica,sans-Serif\" font-size=\"14.00\">class = versicolor</text>\n</g>\n<!-- 15&#45;&gt;17 -->\n<g id=\"edge17\" class=\"edge\">\n<title>15&#45;&gt;17</title>\n<path fill=\"none\" stroke=\"black\" d=\"M742.38,-222.91C756.3,-211.1 771.5,-198.22 785.38,-186.45\"/>\n<polygon fill=\"black\" stroke=\"black\" points=\"788.02,-188.8 793.38,-179.67 783.49,-183.46 788.02,-188.8\"/>\n</g>\n</g>\n</svg>\n",
      "text/plain": [
       "<graphviz.sources.Source at 0x1b133af1d60>"
      ]
     },
     "execution_count": 199,
     "metadata": {},
     "output_type": "execute_result"
    }
   ],
   "source": [
    "dot_data = tree.export_graphviz(clf_inflated, out_file=None, feature_names=iris.feature_names, class_names=iris.target_names, filled=True, rounded=True, special_characters=True)  \n",
    "graph = graphviz.Source(dot_data)  \n",
    "graph"
   ]
  },
  {
   "cell_type": "markdown",
   "metadata": {},
   "source": [
    "## 2) Modify the weight of some classes (set to 10 the weights for misclassification between virginica into versicolor and vice versa) and learn the tree in these conditions. You should obtain similar results as for step 1."
   ]
  },
  {
   "cell_type": "code",
   "execution_count": 200,
   "metadata": {},
   "outputs": [
    {
     "data": {
      "text/html": [
       "<div>\n",
       "<style scoped>\n",
       "    .dataframe tbody tr th:only-of-type {\n",
       "        vertical-align: middle;\n",
       "    }\n",
       "\n",
       "    .dataframe tbody tr th {\n",
       "        vertical-align: top;\n",
       "    }\n",
       "\n",
       "    .dataframe thead th {\n",
       "        text-align: right;\n",
       "    }\n",
       "</style>\n",
       "<table border=\"1\" class=\"dataframe\">\n",
       "  <thead>\n",
       "    <tr style=\"text-align: right;\">\n",
       "      <th></th>\n",
       "      <th>0</th>\n",
       "      <th>1</th>\n",
       "      <th>2</th>\n",
       "      <th>3</th>\n",
       "      <th>4</th>\n",
       "      <th>5</th>\n",
       "      <th>6</th>\n",
       "      <th>7</th>\n",
       "      <th>8</th>\n",
       "      <th>9</th>\n",
       "      <th>...</th>\n",
       "      <th>20</th>\n",
       "      <th>21</th>\n",
       "      <th>22</th>\n",
       "      <th>23</th>\n",
       "      <th>24</th>\n",
       "      <th>25</th>\n",
       "      <th>26</th>\n",
       "      <th>27</th>\n",
       "      <th>28</th>\n",
       "      <th>29</th>\n",
       "    </tr>\n",
       "  </thead>\n",
       "  <tbody>\n",
       "    <tr>\n",
       "      <th>prediction</th>\n",
       "      <td>2</td>\n",
       "      <td>1</td>\n",
       "      <td>0</td>\n",
       "      <td>1</td>\n",
       "      <td>2</td>\n",
       "      <td>0</td>\n",
       "      <td>1</td>\n",
       "      <td>1</td>\n",
       "      <td>0</td>\n",
       "      <td>1</td>\n",
       "      <td>...</td>\n",
       "      <td>1</td>\n",
       "      <td>2</td>\n",
       "      <td>1</td>\n",
       "      <td>1</td>\n",
       "      <td>1</td>\n",
       "      <td>2</td>\n",
       "      <td>1</td>\n",
       "      <td>1</td>\n",
       "      <td>2</td>\n",
       "      <td>2</td>\n",
       "    </tr>\n",
       "    <tr>\n",
       "      <th>reference</th>\n",
       "      <td>2</td>\n",
       "      <td>1</td>\n",
       "      <td>0</td>\n",
       "      <td>1</td>\n",
       "      <td>2</td>\n",
       "      <td>0</td>\n",
       "      <td>1</td>\n",
       "      <td>1</td>\n",
       "      <td>0</td>\n",
       "      <td>1</td>\n",
       "      <td>...</td>\n",
       "      <td>1</td>\n",
       "      <td>2</td>\n",
       "      <td>1</td>\n",
       "      <td>2</td>\n",
       "      <td>2</td>\n",
       "      <td>2</td>\n",
       "      <td>1</td>\n",
       "      <td>1</td>\n",
       "      <td>2</td>\n",
       "      <td>2</td>\n",
       "    </tr>\n",
       "  </tbody>\n",
       "</table>\n",
       "<p>2 rows × 30 columns</p>\n",
       "</div>"
      ],
      "text/plain": [
       "            0   1   2   3   4   5   6   7   8   9   ...  20  21  22  23  24  \\\n",
       "prediction   2   1   0   1   2   0   1   1   0   1  ...   1   2   1   1   1   \n",
       "reference    2   1   0   1   2   0   1   1   0   1  ...   1   2   1   2   2   \n",
       "\n",
       "            25  26  27  28  29  \n",
       "prediction   2   1   1   2   2  \n",
       "reference    2   1   1   2   2  \n",
       "\n",
       "[2 rows x 30 columns]"
      ]
     },
     "execution_count": 200,
     "metadata": {},
     "output_type": "execute_result"
    }
   ],
   "source": [
    "X,y = load_iris(return_X_y=True)\n",
    "X_train, X_test, y_train, y_test_w = train_test_split(X, y, test_size=0.2, random_state=7)\n",
    "clf_weighted = tree.DecisionTreeClassifier(criterion=\"entropy\", random_state=21, min_samples_leaf=min_samples_leaf, class_weight={0:1,1:10,2:10})\n",
    "\n",
    "# Learning of the tree applying weights\n",
    "clf_weighted.fit(X_train, y_train)\n",
    "\n",
    "# Get predictions\n",
    "y_pred_w = clf_weighted.predict(X_test)\n",
    "\n",
    "# Show pairs\n",
    "pd.DataFrame(np.column_stack((y_pred_w, y_test)).T, index=['prediction', 'reference'])"
   ]
  },
  {
   "cell_type": "markdown",
   "metadata": {},
   "source": [
    "### Evaluation"
   ]
  },
  {
   "cell_type": "code",
   "execution_count": 201,
   "metadata": {},
   "outputs": [
    {
     "name": "stdout",
     "output_type": "stream",
     "text": [
      "Accuracy: 86.66666666666667%\n",
      "              precision    recall  f1-score   support\n",
      "\n",
      "           0       1.00      1.00      1.00         7\n",
      "           1       0.83      0.83      0.83        12\n",
      "           2       0.82      0.82      0.82        11\n",
      "\n",
      "    accuracy                           0.87        30\n",
      "   macro avg       0.88      0.88      0.88        30\n",
      "weighted avg       0.87      0.87      0.87        30\n",
      "\n"
     ]
    }
   ],
   "source": [
    "accuracy = accuracy_score(y_test_w, y_pred_w)\n",
    "report = classification_report(y_test_w, y_pred_w, labels=[0, 1, 2])\n",
    "\n",
    "print(f'Accuracy: {accuracy * 100}%')\n",
    "print(report)"
   ]
  },
  {
   "cell_type": "markdown",
   "metadata": {},
   "source": [
    "### Graph"
   ]
  },
  {
   "cell_type": "code",
   "execution_count": 202,
   "metadata": {},
   "outputs": [
    {
     "data": {
      "image/svg+xml": "<?xml version=\"1.0\" encoding=\"UTF-8\" standalone=\"no\"?>\n<!DOCTYPE svg PUBLIC \"-//W3C//DTD SVG 1.1//EN\"\n \"http://www.w3.org/Graphics/SVG/1.1/DTD/svg11.dtd\">\n<!-- Generated by graphviz version 3.0.0 (20220226.1711)\n -->\n<!-- Title: Tree Pages: 1 -->\n<svg width=\"371pt\" height=\"433pt\"\n viewBox=\"0.00 0.00 371.00 433.00\" xmlns=\"http://www.w3.org/2000/svg\" xmlns:xlink=\"http://www.w3.org/1999/xlink\">\n<g id=\"graph0\" class=\"graph\" transform=\"scale(1 1) rotate(0) translate(4 429)\">\n<title>Tree</title>\n<polygon fill=\"white\" stroke=\"transparent\" points=\"-4,4 -4,-429 367,-429 367,4 -4,4\"/>\n<!-- 0 -->\n<g id=\"node1\" class=\"node\">\n<title>0</title>\n<path fill=\"#fcfafe\" stroke=\"black\" d=\"M284.5,-425C284.5,-425 154.5,-425 154.5,-425 148.5,-425 142.5,-419 142.5,-413 142.5,-413 142.5,-354 142.5,-354 142.5,-348 148.5,-342 154.5,-342 154.5,-342 284.5,-342 284.5,-342 290.5,-342 296.5,-348 296.5,-354 296.5,-354 296.5,-413 296.5,-413 296.5,-419 290.5,-425 284.5,-425\"/>\n<text text-anchor=\"start\" x=\"152\" y=\"-409.8\" font-family=\"Helvetica,sans-Serif\" font-size=\"14.00\">petal width (cm) ≤ 1.7</text>\n<text text-anchor=\"start\" x=\"169.5\" y=\"-394.8\" font-family=\"Helvetica,sans-Serif\" font-size=\"14.00\">entropy = 1.246</text>\n<text text-anchor=\"start\" x=\"172\" y=\"-379.8\" font-family=\"Helvetica,sans-Serif\" font-size=\"14.00\">samples = 120</text>\n<text text-anchor=\"start\" x=\"150.5\" y=\"-364.8\" font-family=\"Helvetica,sans-Serif\" font-size=\"14.00\">value = [43, 380, 390]</text>\n<text text-anchor=\"start\" x=\"169.5\" y=\"-349.8\" font-family=\"Helvetica,sans-Serif\" font-size=\"14.00\">class = virginica</text>\n</g>\n<!-- 1 -->\n<g id=\"node2\" class=\"node\">\n<title>1</title>\n<path fill=\"#58e995\" stroke=\"black\" d=\"M204,-306C204,-306 77,-306 77,-306 71,-306 65,-300 65,-294 65,-294 65,-235 65,-235 65,-229 71,-223 77,-223 77,-223 204,-223 204,-223 210,-223 216,-229 216,-235 216,-235 216,-294 216,-294 216,-300 210,-306 204,-306\"/>\n<text text-anchor=\"start\" x=\"73\" y=\"-290.8\" font-family=\"Helvetica,sans-Serif\" font-size=\"14.00\">petal width (cm) ≤ 0.8</text>\n<text text-anchor=\"start\" x=\"90.5\" y=\"-275.8\" font-family=\"Helvetica,sans-Serif\" font-size=\"14.00\">entropy = 0.718</text>\n<text text-anchor=\"start\" x=\"97\" y=\"-260.8\" font-family=\"Helvetica,sans-Serif\" font-size=\"14.00\">samples = 83</text>\n<text text-anchor=\"start\" x=\"75.5\" y=\"-245.8\" font-family=\"Helvetica,sans-Serif\" font-size=\"14.00\">value = [43, 380, 20]</text>\n<text text-anchor=\"start\" x=\"85\" y=\"-230.8\" font-family=\"Helvetica,sans-Serif\" font-size=\"14.00\">class = versicolor</text>\n</g>\n<!-- 0&#45;&gt;1 -->\n<g id=\"edge1\" class=\"edge\">\n<title>0&#45;&gt;1</title>\n<path fill=\"none\" stroke=\"black\" d=\"M192.09,-341.91C186.09,-333.01 179.67,-323.51 173.47,-314.33\"/>\n<polygon fill=\"black\" stroke=\"black\" points=\"176.36,-312.35 167.86,-306.02 170.56,-316.27 176.36,-312.35\"/>\n<text text-anchor=\"middle\" x=\"163.1\" y=\"-326.86\" font-family=\"Helvetica,sans-Serif\" font-size=\"14.00\">True</text>\n</g>\n<!-- 6 -->\n<g id=\"node7\" class=\"node\">\n<title>6</title>\n<path fill=\"#8139e5\" stroke=\"black\" d=\"M351,-298.5C351,-298.5 246,-298.5 246,-298.5 240,-298.5 234,-292.5 234,-286.5 234,-286.5 234,-242.5 234,-242.5 234,-236.5 240,-230.5 246,-230.5 246,-230.5 351,-230.5 351,-230.5 357,-230.5 363,-236.5 363,-242.5 363,-242.5 363,-286.5 363,-286.5 363,-292.5 357,-298.5 351,-298.5\"/>\n<text text-anchor=\"start\" x=\"256.5\" y=\"-283.3\" font-family=\"Helvetica,sans-Serif\" font-size=\"14.00\">entropy = 0.0</text>\n<text text-anchor=\"start\" x=\"255\" y=\"-268.3\" font-family=\"Helvetica,sans-Serif\" font-size=\"14.00\">samples = 37</text>\n<text text-anchor=\"start\" x=\"242\" y=\"-253.3\" font-family=\"Helvetica,sans-Serif\" font-size=\"14.00\">value = [0, 0, 370]</text>\n<text text-anchor=\"start\" x=\"248.5\" y=\"-238.3\" font-family=\"Helvetica,sans-Serif\" font-size=\"14.00\">class = virginica</text>\n</g>\n<!-- 0&#45;&gt;6 -->\n<g id=\"edge6\" class=\"edge\">\n<title>0&#45;&gt;6</title>\n<path fill=\"none\" stroke=\"black\" d=\"M246.91,-341.91C254.51,-330.65 262.77,-318.42 270.41,-307.11\"/>\n<polygon fill=\"black\" stroke=\"black\" points=\"273.41,-308.91 276.11,-298.67 267.61,-305 273.41,-308.91\"/>\n<text text-anchor=\"middle\" x=\"280.86\" y=\"-319.51\" font-family=\"Helvetica,sans-Serif\" font-size=\"14.00\">False</text>\n</g>\n<!-- 2 -->\n<g id=\"node3\" class=\"node\">\n<title>2</title>\n<path fill=\"#e58139\" stroke=\"black\" d=\"M109,-179.5C109,-179.5 12,-179.5 12,-179.5 6,-179.5 0,-173.5 0,-167.5 0,-167.5 0,-123.5 0,-123.5 0,-117.5 6,-111.5 12,-111.5 12,-111.5 109,-111.5 109,-111.5 115,-111.5 121,-117.5 121,-123.5 121,-123.5 121,-167.5 121,-167.5 121,-173.5 115,-179.5 109,-179.5\"/>\n<text text-anchor=\"start\" x=\"18.5\" y=\"-164.3\" font-family=\"Helvetica,sans-Serif\" font-size=\"14.00\">entropy = 0.0</text>\n<text text-anchor=\"start\" x=\"17\" y=\"-149.3\" font-family=\"Helvetica,sans-Serif\" font-size=\"14.00\">samples = 43</text>\n<text text-anchor=\"start\" x=\"8\" y=\"-134.3\" font-family=\"Helvetica,sans-Serif\" font-size=\"14.00\">value = [43, 0, 0]</text>\n<text text-anchor=\"start\" x=\"14.5\" y=\"-119.3\" font-family=\"Helvetica,sans-Serif\" font-size=\"14.00\">class = setosa</text>\n</g>\n<!-- 1&#45;&gt;2 -->\n<g id=\"edge2\" class=\"edge\">\n<title>1&#45;&gt;2</title>\n<path fill=\"none\" stroke=\"black\" d=\"M112.74,-222.91C105.05,-211.65 96.68,-199.42 88.95,-188.11\"/>\n<polygon fill=\"black\" stroke=\"black\" points=\"91.71,-185.95 83.18,-179.67 85.93,-189.9 91.71,-185.95\"/>\n</g>\n<!-- 3 -->\n<g id=\"node4\" class=\"node\">\n<title>3</title>\n<path fill=\"#43e688\" stroke=\"black\" d=\"M292,-187C292,-187 151,-187 151,-187 145,-187 139,-181 139,-175 139,-175 139,-116 139,-116 139,-110 145,-104 151,-104 151,-104 292,-104 292,-104 298,-104 304,-110 304,-116 304,-116 304,-175 304,-175 304,-181 298,-187 292,-187\"/>\n<text text-anchor=\"start\" x=\"147\" y=\"-171.8\" font-family=\"Helvetica,sans-Serif\" font-size=\"14.00\">petal length (cm) ≤ 4.75</text>\n<text text-anchor=\"start\" x=\"171.5\" y=\"-156.8\" font-family=\"Helvetica,sans-Serif\" font-size=\"14.00\">entropy = 0.286</text>\n<text text-anchor=\"start\" x=\"178\" y=\"-141.8\" font-family=\"Helvetica,sans-Serif\" font-size=\"14.00\">samples = 40</text>\n<text text-anchor=\"start\" x=\"161\" y=\"-126.8\" font-family=\"Helvetica,sans-Serif\" font-size=\"14.00\">value = [0, 380, 20]</text>\n<text text-anchor=\"start\" x=\"166\" y=\"-111.8\" font-family=\"Helvetica,sans-Serif\" font-size=\"14.00\">class = versicolor</text>\n</g>\n<!-- 1&#45;&gt;3 -->\n<g id=\"edge3\" class=\"edge\">\n<title>1&#45;&gt;3</title>\n<path fill=\"none\" stroke=\"black\" d=\"M168.6,-222.91C174.76,-214.01 181.34,-204.51 187.69,-195.33\"/>\n<polygon fill=\"black\" stroke=\"black\" points=\"190.63,-197.24 193.45,-187.02 184.88,-193.25 190.63,-197.24\"/>\n</g>\n<!-- 4 -->\n<g id=\"node5\" class=\"node\">\n<title>4</title>\n<path fill=\"#39e581\" stroke=\"black\" d=\"M200,-68C200,-68 95,-68 95,-68 89,-68 83,-62 83,-56 83,-56 83,-12 83,-12 83,-6 89,0 95,0 95,0 200,0 200,0 206,0 212,-6 212,-12 212,-12 212,-56 212,-56 212,-62 206,-68 200,-68\"/>\n<text text-anchor=\"start\" x=\"105.5\" y=\"-52.8\" font-family=\"Helvetica,sans-Serif\" font-size=\"14.00\">entropy = 0.0</text>\n<text text-anchor=\"start\" x=\"104\" y=\"-37.8\" font-family=\"Helvetica,sans-Serif\" font-size=\"14.00\">samples = 35</text>\n<text text-anchor=\"start\" x=\"91\" y=\"-22.8\" font-family=\"Helvetica,sans-Serif\" font-size=\"14.00\">value = [0, 350, 0]</text>\n<text text-anchor=\"start\" x=\"92\" y=\"-7.8\" font-family=\"Helvetica,sans-Serif\" font-size=\"14.00\">class = versicolor</text>\n</g>\n<!-- 3&#45;&gt;4 -->\n<g id=\"edge4\" class=\"edge\">\n<title>3&#45;&gt;4</title>\n<path fill=\"none\" stroke=\"black\" d=\"M193.95,-103.73C187.97,-94.88 181.63,-85.51 175.63,-76.63\"/>\n<polygon fill=\"black\" stroke=\"black\" points=\"178.5,-74.63 170,-68.3 172.7,-78.54 178.5,-74.63\"/>\n</g>\n<!-- 5 -->\n<g id=\"node6\" class=\"node\">\n<title>5</title>\n<path fill=\"#bdf6d5\" stroke=\"black\" d=\"M347,-68C347,-68 242,-68 242,-68 236,-68 230,-62 230,-56 230,-56 230,-12 230,-12 230,-6 236,0 242,0 242,0 347,0 347,0 353,0 359,-6 359,-12 359,-12 359,-56 359,-56 359,-62 353,-68 347,-68\"/>\n<text text-anchor=\"start\" x=\"244.5\" y=\"-52.8\" font-family=\"Helvetica,sans-Serif\" font-size=\"14.00\">entropy = 0.971</text>\n<text text-anchor=\"start\" x=\"255\" y=\"-37.8\" font-family=\"Helvetica,sans-Serif\" font-size=\"14.00\">samples = 5</text>\n<text text-anchor=\"start\" x=\"238\" y=\"-22.8\" font-family=\"Helvetica,sans-Serif\" font-size=\"14.00\">value = [0, 30, 20]</text>\n<text text-anchor=\"start\" x=\"239\" y=\"-7.8\" font-family=\"Helvetica,sans-Serif\" font-size=\"14.00\">class = versicolor</text>\n</g>\n<!-- 3&#45;&gt;5 -->\n<g id=\"edge5\" class=\"edge\">\n<title>3&#45;&gt;5</title>\n<path fill=\"none\" stroke=\"black\" d=\"M248.68,-103.73C254.58,-94.88 260.83,-85.51 266.75,-76.63\"/>\n<polygon fill=\"black\" stroke=\"black\" points=\"269.67,-78.56 272.3,-68.3 263.84,-74.68 269.67,-78.56\"/>\n</g>\n</g>\n</svg>\n",
      "text/plain": [
       "<graphviz.sources.Source at 0x1b135e3aa30>"
      ]
     },
     "execution_count": 202,
     "metadata": {},
     "output_type": "execute_result"
    }
   ],
   "source": [
    "dot_data = tree.export_graphviz(clf_weighted, out_file=None, feature_names=iris.feature_names, class_names=iris.target_names, filled=True, rounded=True, special_characters=True)  \n",
    "graph = graphviz.Source(dot_data)  \n",
    "graph"
   ]
  },
  {
   "cell_type": "markdown",
   "metadata": {},
   "source": [
    "## 3) Learn trees but avoid overfitting (by improving the error on the test set) tuning the parameters on: the minimum number of samples per leaf, max depth of the tree, min_impurity_decrease parameters, max leaf nodes, etc."
   ]
  },
  {
   "cell_type": "code",
   "execution_count": 203,
   "metadata": {},
   "outputs": [],
   "source": [
    "X,y = load_iris(return_X_y=True)\n",
    "X_train, X_test, y_train, y_test = train_test_split(X, y, test_size=0.2, random_state=random_state)\n",
    "\n",
    "hyperparameters = list()\n",
    "\n",
    "for min_samples_l in range(2, 15):\n",
    "    for max_leaf_n in range(2, 15):\n",
    "        for min_samples_s in range(2, 30):\n",
    "            for impurity in np.linspace(0, 1, 21):\n",
    "                clf_improved = tree.DecisionTreeClassifier(criterion=\"entropy\", random_state=random_state, min_samples_leaf=min_samples_l, max_leaf_nodes=max_leaf_n, min_samples_split=min_samples_s, min_impurity_decrease=impurity)\n",
    "                clf_improved = clf_improved.fit(X_train, y_train)\n",
    "                y_pred_imp = clf_improved.predict(X_test)\n",
    "\n",
    "                accuracy = accuracy_score(y_test, y_pred_imp)\n",
    "                f1 = f1_score(y_test, y_pred_imp, average='macro')\n",
    "                if accuracy + f1 == 2:\n",
    "                    hyperparameters.append([min_samples_l, max_leaf_n, min_samples_s, impurity])"
   ]
  },
  {
   "cell_type": "code",
   "execution_count": 204,
   "metadata": {},
   "outputs": [],
   "source": [
    "mat = np.array(hyperparameters)\n",
    "df = pd.DataFrame(mat, columns=[\"min_samples_leaf\", \"max_leaf_nodes\", \"min_samples_split\", \"min_impurity_decrease\"])\n",
    "df.sort_values([\"min_samples_leaf\", \"max_leaf_nodes\", \"min_samples_split\", \"min_impurity_decrease\"], inplace=True)\n",
    "df.to_html(\"optimized_hyperparameters.html\")"
   ]
  },
  {
   "cell_type": "markdown",
   "metadata": {},
   "source": [
    "Reading the table created with the optimized hyperparameters we see that:\n",
    "* <b>min_samples_leaf</b>: from 2 to 8\n",
    "* <b>max_leaf_nodes</b>: from 4 to 14\n",
    "* <b>min_samples_split</b>: from 2 to 29\n",
    "* <b>min_impurity_decrease</b>: 0 to 0.05"
   ]
  },
  {
   "cell_type": "markdown",
   "metadata": {},
   "source": [
    "## 4) Build the confusion matrix of the created tree models on the test set and show them. "
   ]
  },
  {
   "cell_type": "code",
   "execution_count": 205,
   "metadata": {},
   "outputs": [
    {
     "name": "stdout",
     "output_type": "stream",
     "text": [
      "            setosa  versicolor  virginica\n",
      "setosa          11           0          0\n",
      "versicolor       0         104          0\n",
      "virginica        0           0         95\n",
      "            setosa  versicolor  virginica\n",
      "setosa           3           4          3\n",
      "versicolor       2           3          4\n",
      "virginica        2           5          4\n",
      "            setosa  versicolor  virginica\n",
      "setosa           0          10          0\n",
      "versicolor       0           9          0\n",
      "virginica        0          11          0\n"
     ]
    }
   ],
   "source": [
    "inflated_confusion_matrix = confusion_matrix(y_true=y_test_inf, y_pred=y_pred_inf)\n",
    "weighted_confusion_matrix = confusion_matrix(y_true=y_test, y_pred=y_pred_w)\n",
    "improved_confusion_matrix = confusion_matrix(y_true=y_test, y_pred=y_pred_imp)\n",
    "\n",
    "print(pd.DataFrame(inflated_confusion_matrix, index=iris.target_names, columns=iris.target_names))\n",
    "print(pd.DataFrame(weighted_confusion_matrix, index=iris.target_names, columns=iris.target_names))\n",
    "print(pd.DataFrame(improved_confusion_matrix, index=iris.target_names, columns=iris.target_names))"
   ]
  },
  {
   "cell_type": "markdown",
   "metadata": {},
   "source": [
    "## 5) Build the ROC curves (or coverage curves in coverage space) and plot them for each tree model you have created: for each model you have to build three curves, one for each class, considered in turn as the positive class."
   ]
  },
  {
   "cell_type": "code",
   "execution_count": null,
   "metadata": {},
   "outputs": [],
   "source": []
  }
 ],
 "metadata": {
  "interpreter": {
   "hash": "c45cb57a8e615f538fcf6c9f1cc2590ada0a8328b3cfcbe1c20f2dcc2b08d1fe"
  },
  "kernelspec": {
   "display_name": "Python 3.8.2 64-bit ('pyVenv': venv)",
   "language": "python",
   "name": "python3"
  },
  "language_info": {
   "codemirror_mode": {
    "name": "ipython",
    "version": 3
   },
   "file_extension": ".py",
   "mimetype": "text/x-python",
   "name": "python",
   "nbconvert_exporter": "python",
   "pygments_lexer": "ipython3",
   "version": "3.8.6"
  },
  "orig_nbformat": 2
 },
 "nbformat": 4,
 "nbformat_minor": 2
}
