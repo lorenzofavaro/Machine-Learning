{
 "cells": [
  {
   "cell_type": "code",
   "execution_count": 181,
   "metadata": {},
   "outputs": [],
   "source": [
    "import numpy as np\n",
    "from sklearn import tree\n",
    "from sklearn.datasets import load_iris\n",
    "from sklearn.model_selection import train_test_split\n",
    "from sklearn.metrics import accuracy_score\n",
    "from sklearn.metrics import f1_score\n",
    "import pandas as pd\n",
    "import graphviz\n",
    "import matplotlib.pyplot as plt"
   ]
  },
  {
   "cell_type": "code",
   "execution_count": 182,
   "metadata": {},
   "outputs": [],
   "source": [
    "# Parameters\n",
    "random_state = 42\n",
    "min_samples_leaf = 5"
   ]
  },
  {
   "cell_type": "markdown",
   "metadata": {},
   "source": [
    "## 1) Get an artificial inflation of some class in the training set by a given factor: 10 (weigh more the classes virginica e versicolor which are more difficult to discriminate). Learn the tree in these conditions."
   ]
  },
  {
   "cell_type": "code",
   "execution_count": 183,
   "metadata": {},
   "outputs": [
    {
     "data": {
      "text/html": [
       "<div>\n",
       "<style scoped>\n",
       "    .dataframe tbody tr th:only-of-type {\n",
       "        vertical-align: middle;\n",
       "    }\n",
       "\n",
       "    .dataframe tbody tr th {\n",
       "        vertical-align: top;\n",
       "    }\n",
       "\n",
       "    .dataframe thead th {\n",
       "        text-align: right;\n",
       "    }\n",
       "</style>\n",
       "<table border=\"1\" class=\"dataframe\">\n",
       "  <thead>\n",
       "    <tr style=\"text-align: right;\">\n",
       "      <th></th>\n",
       "      <th>0</th>\n",
       "      <th>1</th>\n",
       "      <th>2</th>\n",
       "      <th>3</th>\n",
       "      <th>4</th>\n",
       "      <th>5</th>\n",
       "      <th>6</th>\n",
       "      <th>7</th>\n",
       "      <th>8</th>\n",
       "      <th>9</th>\n",
       "      <th>...</th>\n",
       "      <th>200</th>\n",
       "      <th>201</th>\n",
       "      <th>202</th>\n",
       "      <th>203</th>\n",
       "      <th>204</th>\n",
       "      <th>205</th>\n",
       "      <th>206</th>\n",
       "      <th>207</th>\n",
       "      <th>208</th>\n",
       "      <th>209</th>\n",
       "    </tr>\n",
       "  </thead>\n",
       "  <tbody>\n",
       "    <tr>\n",
       "      <th>prediction</th>\n",
       "      <td>1</td>\n",
       "      <td>2</td>\n",
       "      <td>1</td>\n",
       "      <td>1</td>\n",
       "      <td>2</td>\n",
       "      <td>2</td>\n",
       "      <td>2</td>\n",
       "      <td>1</td>\n",
       "      <td>1</td>\n",
       "      <td>2</td>\n",
       "      <td>...</td>\n",
       "      <td>2</td>\n",
       "      <td>2</td>\n",
       "      <td>1</td>\n",
       "      <td>2</td>\n",
       "      <td>2</td>\n",
       "      <td>1</td>\n",
       "      <td>1</td>\n",
       "      <td>1</td>\n",
       "      <td>1</td>\n",
       "      <td>1</td>\n",
       "    </tr>\n",
       "    <tr>\n",
       "      <th>reference</th>\n",
       "      <td>1</td>\n",
       "      <td>2</td>\n",
       "      <td>1</td>\n",
       "      <td>1</td>\n",
       "      <td>2</td>\n",
       "      <td>2</td>\n",
       "      <td>2</td>\n",
       "      <td>1</td>\n",
       "      <td>1</td>\n",
       "      <td>2</td>\n",
       "      <td>...</td>\n",
       "      <td>2</td>\n",
       "      <td>2</td>\n",
       "      <td>1</td>\n",
       "      <td>2</td>\n",
       "      <td>2</td>\n",
       "      <td>1</td>\n",
       "      <td>1</td>\n",
       "      <td>1</td>\n",
       "      <td>1</td>\n",
       "      <td>1</td>\n",
       "    </tr>\n",
       "  </tbody>\n",
       "</table>\n",
       "<p>2 rows × 210 columns</p>\n",
       "</div>"
      ],
      "text/plain": [
       "            0    1    2    3    4    5    6    7    8    9    ...  200  201  \\\n",
       "prediction    1    2    1    1    2    2    2    1    1    2  ...    2    2   \n",
       "reference     1    2    1    1    2    2    2    1    1    2  ...    2    2   \n",
       "\n",
       "            202  203  204  205  206  207  208  209  \n",
       "prediction    1    2    2    1    1    1    1    1  \n",
       "reference     1    2    2    1    1    1    1    1  \n",
       "\n",
       "[2 rows x 210 columns]"
      ]
     },
     "execution_count": 183,
     "metadata": {},
     "output_type": "execute_result"
    }
   ],
   "source": [
    "data, target = load_iris(return_X_y=True)\n",
    "inflation_factor = 10\n",
    "\n",
    "# Compute the repetitions of each elem of the dataset\n",
    "repetitions = np.clip(target * factor, a_min=1, a_max=factor)\n",
    "\n",
    "# Apply inflation to dataset\n",
    "inflated_data = np.repeat(data, repetitions, axis=0)\n",
    "inflated_target = np.repeat(target, repetitions, axis=0)\n",
    "\n",
    "# Get train & test datasets\n",
    "X_train, X_test, y_train, y_test = train_test_split(inflated_data, inflated_target, test_size=0.20, random_state=random_state)\n",
    "\n",
    "# Learning of the tree\n",
    "clf_inflated = tree.DecisionTreeClassifier(criterion=\"entropy\", random_state=random_state, min_samples_leaf=min_samples_leaf)\n",
    "clf_inflated = clf_inflated.fit(X_train, y_train)\n",
    "\n",
    "# Get predictions\n",
    "y_pred = clf_inflated.predict(X_test)\n",
    "\n",
    "# Show pairs\n",
    "pd.DataFrame(np.column_stack((y_pred, y_test)).T, index=['prediction', 'reference'])\n"
   ]
  },
  {
   "cell_type": "markdown",
   "metadata": {},
   "source": [
    "### Evaluation"
   ]
  },
  {
   "cell_type": "code",
   "execution_count": 184,
   "metadata": {},
   "outputs": [
    {
     "name": "stdout",
     "output_type": "stream",
     "text": [
      "Accuracy: 100.0%\n",
      "F1 Score: 100.0%\n"
     ]
    }
   ],
   "source": [
    "accuracy = accuracy_score(y_test, y_pred)\n",
    "f1 = f1_score(y_test, y_pred, average='macro')\n",
    "\n",
    "print(f'Accuracy: {accuracy * 100}%')\n",
    "print(f'F1 Score: {f1 * 100}%')"
   ]
  },
  {
   "cell_type": "markdown",
   "metadata": {},
   "source": [
    "### Graph"
   ]
  },
  {
   "cell_type": "code",
   "execution_count": 185,
   "metadata": {},
   "outputs": [
    {
     "data": {
      "image/svg+xml": "<?xml version=\"1.0\" encoding=\"UTF-8\" standalone=\"no\"?>\n<!DOCTYPE svg PUBLIC \"-//W3C//DTD SVG 1.1//EN\"\n \"http://www.w3.org/Graphics/SVG/1.1/DTD/svg11.dtd\">\n<!-- Generated by graphviz version 3.0.0 (20220226.1711)\n -->\n<!-- Title: Tree Pages: 1 -->\n<svg width=\"779pt\" height=\"671pt\"\n viewBox=\"0.00 0.00 779.00 671.00\" xmlns=\"http://www.w3.org/2000/svg\" xmlns:xlink=\"http://www.w3.org/1999/xlink\">\n<g id=\"graph0\" class=\"graph\" transform=\"scale(1 1) rotate(0) translate(4 667)\">\n<title>Tree</title>\n<polygon fill=\"white\" stroke=\"transparent\" points=\"-4,4 -4,-667 775,-667 775,4 -4,4\"/>\n<!-- 0 -->\n<g id=\"node1\" class=\"node\">\n<title>0</title>\n<path fill=\"#fafefc\" stroke=\"black\" d=\"M524,-663C524,-663 389,-663 389,-663 383,-663 377,-657 377,-651 377,-651 377,-592 377,-592 377,-586 383,-580 389,-580 389,-580 524,-580 524,-580 530,-580 536,-586 536,-592 536,-592 536,-651 536,-651 536,-657 530,-663 524,-663\"/>\n<text text-anchor=\"start\" x=\"385\" y=\"-647.8\" font-family=\"Helvetica,sans-Serif\" font-size=\"14.00\">petal width (cm) ≤ 1.75</text>\n<text text-anchor=\"start\" x=\"406.5\" y=\"-632.8\" font-family=\"Helvetica,sans-Serif\" font-size=\"14.00\">entropy = 1.216</text>\n<text text-anchor=\"start\" x=\"409\" y=\"-617.8\" font-family=\"Helvetica,sans-Serif\" font-size=\"14.00\">samples = 840</text>\n<text text-anchor=\"start\" x=\"387.5\" y=\"-602.8\" font-family=\"Helvetica,sans-Serif\" font-size=\"14.00\">value = [37, 407, 396]</text>\n<text text-anchor=\"start\" x=\"401\" y=\"-587.8\" font-family=\"Helvetica,sans-Serif\" font-size=\"14.00\">class = versicolor</text>\n</g>\n<!-- 1 -->\n<g id=\"node2\" class=\"node\">\n<title>1</title>\n<path fill=\"#5cea97\" stroke=\"black\" d=\"M434,-544C434,-544 299,-544 299,-544 293,-544 287,-538 287,-532 287,-532 287,-473 287,-473 287,-467 293,-461 299,-461 299,-461 434,-461 434,-461 440,-461 446,-467 446,-473 446,-473 446,-532 446,-532 446,-538 440,-544 434,-544\"/>\n<text text-anchor=\"start\" x=\"295\" y=\"-528.8\" font-family=\"Helvetica,sans-Serif\" font-size=\"14.00\">petal width (cm) ≤ 0.75</text>\n<text text-anchor=\"start\" x=\"316.5\" y=\"-513.8\" font-family=\"Helvetica,sans-Serif\" font-size=\"14.00\">entropy = 0.799</text>\n<text text-anchor=\"start\" x=\"319\" y=\"-498.8\" font-family=\"Helvetica,sans-Serif\" font-size=\"14.00\">samples = 477</text>\n<text text-anchor=\"start\" x=\"301.5\" y=\"-483.8\" font-family=\"Helvetica,sans-Serif\" font-size=\"14.00\">value = [37, 400, 40]</text>\n<text text-anchor=\"start\" x=\"311\" y=\"-468.8\" font-family=\"Helvetica,sans-Serif\" font-size=\"14.00\">class = versicolor</text>\n</g>\n<!-- 0&#45;&gt;1 -->\n<g id=\"edge1\" class=\"edge\">\n<title>0&#45;&gt;1</title>\n<path fill=\"none\" stroke=\"black\" d=\"M425.27,-579.91C418.36,-570.92 410.97,-561.32 403.85,-552.05\"/>\n<polygon fill=\"black\" stroke=\"black\" points=\"406.54,-549.81 397.67,-544.02 400.99,-554.08 406.54,-549.81\"/>\n<text text-anchor=\"middle\" x=\"394.44\" y=\"-565.11\" font-family=\"Helvetica,sans-Serif\" font-size=\"14.00\">True</text>\n</g>\n<!-- 12 -->\n<g id=\"node13\" class=\"node\">\n<title>12</title>\n<path fill=\"#833de6\" stroke=\"black\" d=\"M617,-544C617,-544 476,-544 476,-544 470,-544 464,-538 464,-532 464,-532 464,-473 464,-473 464,-467 470,-461 476,-461 476,-461 617,-461 617,-461 623,-461 629,-467 629,-473 629,-473 629,-532 629,-532 629,-538 623,-544 617,-544\"/>\n<text text-anchor=\"start\" x=\"472\" y=\"-528.8\" font-family=\"Helvetica,sans-Serif\" font-size=\"14.00\">petal length (cm) ≤ 4.85</text>\n<text text-anchor=\"start\" x=\"496.5\" y=\"-513.8\" font-family=\"Helvetica,sans-Serif\" font-size=\"14.00\">entropy = 0.137</text>\n<text text-anchor=\"start\" x=\"499\" y=\"-498.8\" font-family=\"Helvetica,sans-Serif\" font-size=\"14.00\">samples = 363</text>\n<text text-anchor=\"start\" x=\"490\" y=\"-483.8\" font-family=\"Helvetica,sans-Serif\" font-size=\"14.00\">value = [0, 7, 356]</text>\n<text text-anchor=\"start\" x=\"496.5\" y=\"-468.8\" font-family=\"Helvetica,sans-Serif\" font-size=\"14.00\">class = virginica</text>\n</g>\n<!-- 0&#45;&gt;12 -->\n<g id=\"edge12\" class=\"edge\">\n<title>0&#45;&gt;12</title>\n<path fill=\"none\" stroke=\"black\" d=\"M487.73,-579.91C494.64,-570.92 502.03,-561.32 509.15,-552.05\"/>\n<polygon fill=\"black\" stroke=\"black\" points=\"512.01,-554.08 515.33,-544.02 506.46,-549.81 512.01,-554.08\"/>\n<text text-anchor=\"middle\" x=\"518.56\" y=\"-565.11\" font-family=\"Helvetica,sans-Serif\" font-size=\"14.00\">False</text>\n</g>\n<!-- 2 -->\n<g id=\"node3\" class=\"node\">\n<title>2</title>\n<path fill=\"#e58139\" stroke=\"black\" d=\"M255,-417.5C255,-417.5 158,-417.5 158,-417.5 152,-417.5 146,-411.5 146,-405.5 146,-405.5 146,-361.5 146,-361.5 146,-355.5 152,-349.5 158,-349.5 158,-349.5 255,-349.5 255,-349.5 261,-349.5 267,-355.5 267,-361.5 267,-361.5 267,-405.5 267,-405.5 267,-411.5 261,-417.5 255,-417.5\"/>\n<text text-anchor=\"start\" x=\"164.5\" y=\"-402.3\" font-family=\"Helvetica,sans-Serif\" font-size=\"14.00\">entropy = 0.0</text>\n<text text-anchor=\"start\" x=\"163\" y=\"-387.3\" font-family=\"Helvetica,sans-Serif\" font-size=\"14.00\">samples = 37</text>\n<text text-anchor=\"start\" x=\"154\" y=\"-372.3\" font-family=\"Helvetica,sans-Serif\" font-size=\"14.00\">value = [37, 0, 0]</text>\n<text text-anchor=\"start\" x=\"160.5\" y=\"-357.3\" font-family=\"Helvetica,sans-Serif\" font-size=\"14.00\">class = setosa</text>\n</g>\n<!-- 1&#45;&gt;2 -->\n<g id=\"edge2\" class=\"edge\">\n<title>1&#45;&gt;2</title>\n<path fill=\"none\" stroke=\"black\" d=\"M310.99,-460.91C294.54,-448.88 276.56,-435.73 260.23,-423.79\"/>\n<polygon fill=\"black\" stroke=\"black\" points=\"261.99,-420.74 251.86,-417.67 257.86,-426.39 261.99,-420.74\"/>\n</g>\n<!-- 3 -->\n<g id=\"node4\" class=\"node\">\n<title>3</title>\n<path fill=\"#4de88e\" stroke=\"black\" d=\"M438,-425C438,-425 297,-425 297,-425 291,-425 285,-419 285,-413 285,-413 285,-354 285,-354 285,-348 291,-342 297,-342 297,-342 438,-342 438,-342 444,-342 450,-348 450,-354 450,-354 450,-413 450,-413 450,-419 444,-425 438,-425\"/>\n<text text-anchor=\"start\" x=\"293\" y=\"-409.8\" font-family=\"Helvetica,sans-Serif\" font-size=\"14.00\">petal length (cm) ≤ 4.95</text>\n<text text-anchor=\"start\" x=\"317.5\" y=\"-394.8\" font-family=\"Helvetica,sans-Serif\" font-size=\"14.00\">entropy = 0.439</text>\n<text text-anchor=\"start\" x=\"320\" y=\"-379.8\" font-family=\"Helvetica,sans-Serif\" font-size=\"14.00\">samples = 440</text>\n<text text-anchor=\"start\" x=\"307\" y=\"-364.8\" font-family=\"Helvetica,sans-Serif\" font-size=\"14.00\">value = [0, 400, 40]</text>\n<text text-anchor=\"start\" x=\"312\" y=\"-349.8\" font-family=\"Helvetica,sans-Serif\" font-size=\"14.00\">class = versicolor</text>\n</g>\n<!-- 1&#45;&gt;3 -->\n<g id=\"edge3\" class=\"edge\">\n<title>1&#45;&gt;3</title>\n<path fill=\"none\" stroke=\"black\" d=\"M366.85,-460.91C366.92,-452.65 366.99,-443.86 367.07,-435.3\"/>\n<polygon fill=\"black\" stroke=\"black\" points=\"370.57,-435.05 367.15,-425.02 363.57,-434.99 370.57,-435.05\"/>\n</g>\n<!-- 4 -->\n<g id=\"node5\" class=\"node\">\n<title>4</title>\n<path fill=\"#3de583\" stroke=\"black\" d=\"M263,-306C263,-306 128,-306 128,-306 122,-306 116,-300 116,-294 116,-294 116,-235 116,-235 116,-229 122,-223 128,-223 128,-223 263,-223 263,-223 269,-223 275,-229 275,-235 275,-235 275,-294 275,-294 275,-300 269,-306 263,-306\"/>\n<text text-anchor=\"start\" x=\"124\" y=\"-290.8\" font-family=\"Helvetica,sans-Serif\" font-size=\"14.00\">petal width (cm) ≤ 1.65</text>\n<text text-anchor=\"start\" x=\"145.5\" y=\"-275.8\" font-family=\"Helvetica,sans-Serif\" font-size=\"14.00\">entropy = 0.129</text>\n<text text-anchor=\"start\" x=\"148\" y=\"-260.8\" font-family=\"Helvetica,sans-Serif\" font-size=\"14.00\">samples = 392</text>\n<text text-anchor=\"start\" x=\"139\" y=\"-245.8\" font-family=\"Helvetica,sans-Serif\" font-size=\"14.00\">value = [0, 385, 7]</text>\n<text text-anchor=\"start\" x=\"140\" y=\"-230.8\" font-family=\"Helvetica,sans-Serif\" font-size=\"14.00\">class = versicolor</text>\n</g>\n<!-- 3&#45;&gt;4 -->\n<g id=\"edge4\" class=\"edge\">\n<title>3&#45;&gt;4</title>\n<path fill=\"none\" stroke=\"black\" d=\"M307.83,-341.91C293.55,-332.2 278.2,-321.76 263.58,-311.81\"/>\n<polygon fill=\"black\" stroke=\"black\" points=\"265.31,-308.75 255.07,-306.02 261.37,-314.54 265.31,-308.75\"/>\n</g>\n<!-- 7 -->\n<g id=\"node8\" class=\"node\">\n<title>7</title>\n<path fill=\"#ba93f1\" stroke=\"black\" d=\"M440,-306C440,-306 305,-306 305,-306 299,-306 293,-300 293,-294 293,-294 293,-235 293,-235 293,-229 299,-223 305,-223 305,-223 440,-223 440,-223 446,-223 452,-229 452,-235 452,-235 452,-294 452,-294 452,-300 446,-306 440,-306\"/>\n<text text-anchor=\"start\" x=\"301\" y=\"-290.8\" font-family=\"Helvetica,sans-Serif\" font-size=\"14.00\">petal width (cm) ≤ 1.55</text>\n<text text-anchor=\"start\" x=\"322.5\" y=\"-275.8\" font-family=\"Helvetica,sans-Serif\" font-size=\"14.00\">entropy = 0.896</text>\n<text text-anchor=\"start\" x=\"329\" y=\"-260.8\" font-family=\"Helvetica,sans-Serif\" font-size=\"14.00\">samples = 48</text>\n<text text-anchor=\"start\" x=\"316\" y=\"-245.8\" font-family=\"Helvetica,sans-Serif\" font-size=\"14.00\">value = [0, 15, 33]</text>\n<text text-anchor=\"start\" x=\"322.5\" y=\"-230.8\" font-family=\"Helvetica,sans-Serif\" font-size=\"14.00\">class = virginica</text>\n</g>\n<!-- 3&#45;&gt;7 -->\n<g id=\"edge7\" class=\"edge\">\n<title>3&#45;&gt;7</title>\n<path fill=\"none\" stroke=\"black\" d=\"M369.23,-341.91C369.59,-333.56 369.97,-324.67 370.34,-316.02\"/>\n<polygon fill=\"black\" stroke=\"black\" points=\"373.84,-316.16 370.77,-306.02 366.84,-315.86 373.84,-316.16\"/>\n</g>\n<!-- 5 -->\n<g id=\"node6\" class=\"node\">\n<title>5</title>\n<path fill=\"#39e581\" stroke=\"black\" d=\"M117,-179.5C117,-179.5 12,-179.5 12,-179.5 6,-179.5 0,-173.5 0,-167.5 0,-167.5 0,-123.5 0,-123.5 0,-117.5 6,-111.5 12,-111.5 12,-111.5 117,-111.5 117,-111.5 123,-111.5 129,-117.5 129,-123.5 129,-123.5 129,-167.5 129,-167.5 129,-173.5 123,-179.5 117,-179.5\"/>\n<text text-anchor=\"start\" x=\"22.5\" y=\"-164.3\" font-family=\"Helvetica,sans-Serif\" font-size=\"14.00\">entropy = 0.0</text>\n<text text-anchor=\"start\" x=\"17\" y=\"-149.3\" font-family=\"Helvetica,sans-Serif\" font-size=\"14.00\">samples = 385</text>\n<text text-anchor=\"start\" x=\"8\" y=\"-134.3\" font-family=\"Helvetica,sans-Serif\" font-size=\"14.00\">value = [0, 385, 0]</text>\n<text text-anchor=\"start\" x=\"9\" y=\"-119.3\" font-family=\"Helvetica,sans-Serif\" font-size=\"14.00\">class = versicolor</text>\n</g>\n<!-- 4&#45;&gt;5 -->\n<g id=\"edge5\" class=\"edge\">\n<title>4&#45;&gt;5</title>\n<path fill=\"none\" stroke=\"black\" d=\"M150.05,-222.91C136.83,-211.1 122.4,-198.22 109.23,-186.45\"/>\n<polygon fill=\"black\" stroke=\"black\" points=\"111.43,-183.72 101.64,-179.67 106.76,-188.94 111.43,-183.72\"/>\n</g>\n<!-- 6 -->\n<g id=\"node7\" class=\"node\">\n<title>6</title>\n<path fill=\"#8139e5\" stroke=\"black\" d=\"M251.5,-179.5C251.5,-179.5 159.5,-179.5 159.5,-179.5 153.5,-179.5 147.5,-173.5 147.5,-167.5 147.5,-167.5 147.5,-123.5 147.5,-123.5 147.5,-117.5 153.5,-111.5 159.5,-111.5 159.5,-111.5 251.5,-111.5 251.5,-111.5 257.5,-111.5 263.5,-117.5 263.5,-123.5 263.5,-123.5 263.5,-167.5 263.5,-167.5 263.5,-173.5 257.5,-179.5 251.5,-179.5\"/>\n<text text-anchor=\"start\" x=\"163.5\" y=\"-164.3\" font-family=\"Helvetica,sans-Serif\" font-size=\"14.00\">entropy = 0.0</text>\n<text text-anchor=\"start\" x=\"166\" y=\"-149.3\" font-family=\"Helvetica,sans-Serif\" font-size=\"14.00\">samples = 7</text>\n<text text-anchor=\"start\" x=\"157\" y=\"-134.3\" font-family=\"Helvetica,sans-Serif\" font-size=\"14.00\">value = [0, 0, 7]</text>\n<text text-anchor=\"start\" x=\"155.5\" y=\"-119.3\" font-family=\"Helvetica,sans-Serif\" font-size=\"14.00\">class = virginica</text>\n</g>\n<!-- 4&#45;&gt;6 -->\n<g id=\"edge6\" class=\"edge\">\n<title>4&#45;&gt;6</title>\n<path fill=\"none\" stroke=\"black\" d=\"M198.97,-222.91C199.88,-212.2 200.87,-200.62 201.8,-189.78\"/>\n<polygon fill=\"black\" stroke=\"black\" points=\"205.3,-189.93 202.67,-179.67 198.33,-189.33 205.3,-189.93\"/>\n</g>\n<!-- 8 -->\n<g id=\"node9\" class=\"node\">\n<title>8</title>\n<path fill=\"#8139e5\" stroke=\"black\" d=\"M411,-179.5C411,-179.5 314,-179.5 314,-179.5 308,-179.5 302,-173.5 302,-167.5 302,-167.5 302,-123.5 302,-123.5 302,-117.5 308,-111.5 314,-111.5 314,-111.5 411,-111.5 411,-111.5 417,-111.5 423,-117.5 423,-123.5 423,-123.5 423,-167.5 423,-167.5 423,-173.5 417,-179.5 411,-179.5\"/>\n<text text-anchor=\"start\" x=\"320.5\" y=\"-164.3\" font-family=\"Helvetica,sans-Serif\" font-size=\"14.00\">entropy = 0.0</text>\n<text text-anchor=\"start\" x=\"319\" y=\"-149.3\" font-family=\"Helvetica,sans-Serif\" font-size=\"14.00\">samples = 26</text>\n<text text-anchor=\"start\" x=\"310\" y=\"-134.3\" font-family=\"Helvetica,sans-Serif\" font-size=\"14.00\">value = [0, 0, 26]</text>\n<text text-anchor=\"start\" x=\"312.5\" y=\"-119.3\" font-family=\"Helvetica,sans-Serif\" font-size=\"14.00\">class = virginica</text>\n</g>\n<!-- 7&#45;&gt;8 -->\n<g id=\"edge8\" class=\"edge\">\n<title>7&#45;&gt;8</title>\n<path fill=\"none\" stroke=\"black\" d=\"M369.03,-222.91C368.12,-212.2 367.13,-200.62 366.2,-189.78\"/>\n<polygon fill=\"black\" stroke=\"black\" points=\"369.67,-189.33 365.33,-179.67 362.7,-189.93 369.67,-189.33\"/>\n</g>\n<!-- 9 -->\n<g id=\"node10\" class=\"node\">\n<title>9</title>\n<path fill=\"#95f1bc\" stroke=\"black\" d=\"M598,-187C598,-187 453,-187 453,-187 447,-187 441,-181 441,-175 441,-175 441,-116 441,-116 441,-110 447,-104 453,-104 453,-104 598,-104 598,-104 604,-104 610,-110 610,-116 610,-116 610,-175 610,-175 610,-181 604,-187 598,-187\"/>\n<text text-anchor=\"start\" x=\"449\" y=\"-171.8\" font-family=\"Helvetica,sans-Serif\" font-size=\"14.00\">sepal length (cm) ≤ 6.95</text>\n<text text-anchor=\"start\" x=\"475.5\" y=\"-156.8\" font-family=\"Helvetica,sans-Serif\" font-size=\"14.00\">entropy = 0.902</text>\n<text text-anchor=\"start\" x=\"482\" y=\"-141.8\" font-family=\"Helvetica,sans-Serif\" font-size=\"14.00\">samples = 22</text>\n<text text-anchor=\"start\" x=\"473\" y=\"-126.8\" font-family=\"Helvetica,sans-Serif\" font-size=\"14.00\">value = [0, 15, 7]</text>\n<text text-anchor=\"start\" x=\"470\" y=\"-111.8\" font-family=\"Helvetica,sans-Serif\" font-size=\"14.00\">class = versicolor</text>\n</g>\n<!-- 7&#45;&gt;9 -->\n<g id=\"edge9\" class=\"edge\">\n<title>7&#45;&gt;9</title>\n<path fill=\"none\" stroke=\"black\" d=\"M425.58,-222.91C438.04,-213.38 451.42,-203.15 464.21,-193.37\"/>\n<polygon fill=\"black\" stroke=\"black\" points=\"466.69,-195.88 472.51,-187.02 462.44,-190.32 466.69,-195.88\"/>\n</g>\n<!-- 10 -->\n<g id=\"node11\" class=\"node\">\n<title>10</title>\n<path fill=\"#39e581\" stroke=\"black\" d=\"M507,-68C507,-68 404,-68 404,-68 398,-68 392,-62 392,-56 392,-56 392,-12 392,-12 392,-6 398,0 404,0 404,0 507,0 507,0 513,0 519,-6 519,-12 519,-12 519,-56 519,-56 519,-62 513,-68 507,-68\"/>\n<text text-anchor=\"start\" x=\"413.5\" y=\"-52.8\" font-family=\"Helvetica,sans-Serif\" font-size=\"14.00\">entropy = 0.0</text>\n<text text-anchor=\"start\" x=\"412\" y=\"-37.8\" font-family=\"Helvetica,sans-Serif\" font-size=\"14.00\">samples = 15</text>\n<text text-anchor=\"start\" x=\"403\" y=\"-22.8\" font-family=\"Helvetica,sans-Serif\" font-size=\"14.00\">value = [0, 15, 0]</text>\n<text text-anchor=\"start\" x=\"400\" y=\"-7.8\" font-family=\"Helvetica,sans-Serif\" font-size=\"14.00\">class = versicolor</text>\n</g>\n<!-- 9&#45;&gt;10 -->\n<g id=\"edge10\" class=\"edge\">\n<title>9&#45;&gt;10</title>\n<path fill=\"none\" stroke=\"black\" d=\"M499.43,-103.73C493.84,-94.97 487.91,-85.7 482.29,-76.91\"/>\n<polygon fill=\"black\" stroke=\"black\" points=\"485.12,-74.84 476.79,-68.3 479.22,-78.61 485.12,-74.84\"/>\n</g>\n<!-- 11 -->\n<g id=\"node12\" class=\"node\">\n<title>11</title>\n<path fill=\"#8139e5\" stroke=\"black\" d=\"M641.5,-68C641.5,-68 549.5,-68 549.5,-68 543.5,-68 537.5,-62 537.5,-56 537.5,-56 537.5,-12 537.5,-12 537.5,-6 543.5,0 549.5,0 549.5,0 641.5,0 641.5,0 647.5,0 653.5,-6 653.5,-12 653.5,-12 653.5,-56 653.5,-56 653.5,-62 647.5,-68 641.5,-68\"/>\n<text text-anchor=\"start\" x=\"553.5\" y=\"-52.8\" font-family=\"Helvetica,sans-Serif\" font-size=\"14.00\">entropy = 0.0</text>\n<text text-anchor=\"start\" x=\"556\" y=\"-37.8\" font-family=\"Helvetica,sans-Serif\" font-size=\"14.00\">samples = 7</text>\n<text text-anchor=\"start\" x=\"547\" y=\"-22.8\" font-family=\"Helvetica,sans-Serif\" font-size=\"14.00\">value = [0, 0, 7]</text>\n<text text-anchor=\"start\" x=\"545.5\" y=\"-7.8\" font-family=\"Helvetica,sans-Serif\" font-size=\"14.00\">class = virginica</text>\n</g>\n<!-- 9&#45;&gt;11 -->\n<g id=\"edge11\" class=\"edge\">\n<title>9&#45;&gt;11</title>\n<path fill=\"none\" stroke=\"black\" d=\"M551.57,-103.73C557.16,-94.97 563.09,-85.7 568.71,-76.91\"/>\n<polygon fill=\"black\" stroke=\"black\" points=\"571.78,-78.61 574.21,-68.3 565.88,-74.84 571.78,-78.61\"/>\n</g>\n<!-- 13 -->\n<g id=\"node14\" class=\"node\">\n<title>13</title>\n<path fill=\"#b890f0\" stroke=\"black\" d=\"M612,-425C612,-425 481,-425 481,-425 475,-425 469,-419 469,-413 469,-413 469,-354 469,-354 469,-348 475,-342 481,-342 481,-342 612,-342 612,-342 618,-342 624,-348 624,-354 624,-354 624,-413 624,-413 624,-419 618,-425 612,-425\"/>\n<text text-anchor=\"start\" x=\"477\" y=\"-409.8\" font-family=\"Helvetica,sans-Serif\" font-size=\"14.00\">sepal width (cm) ≤ 3.1</text>\n<text text-anchor=\"start\" x=\"496.5\" y=\"-394.8\" font-family=\"Helvetica,sans-Serif\" font-size=\"14.00\">entropy = 0.887</text>\n<text text-anchor=\"start\" x=\"503\" y=\"-379.8\" font-family=\"Helvetica,sans-Serif\" font-size=\"14.00\">samples = 23</text>\n<text text-anchor=\"start\" x=\"494\" y=\"-364.8\" font-family=\"Helvetica,sans-Serif\" font-size=\"14.00\">value = [0, 7, 16]</text>\n<text text-anchor=\"start\" x=\"496.5\" y=\"-349.8\" font-family=\"Helvetica,sans-Serif\" font-size=\"14.00\">class = virginica</text>\n</g>\n<!-- 12&#45;&gt;13 -->\n<g id=\"edge13\" class=\"edge\">\n<title>12&#45;&gt;13</title>\n<path fill=\"none\" stroke=\"black\" d=\"M546.5,-460.91C546.5,-452.65 546.5,-443.86 546.5,-435.3\"/>\n<polygon fill=\"black\" stroke=\"black\" points=\"550,-435.02 546.5,-425.02 543,-435.02 550,-435.02\"/>\n</g>\n<!-- 16 -->\n<g id=\"node17\" class=\"node\">\n<title>16</title>\n<path fill=\"#8139e5\" stroke=\"black\" d=\"M759,-417.5C759,-417.5 654,-417.5 654,-417.5 648,-417.5 642,-411.5 642,-405.5 642,-405.5 642,-361.5 642,-361.5 642,-355.5 648,-349.5 654,-349.5 654,-349.5 759,-349.5 759,-349.5 765,-349.5 771,-355.5 771,-361.5 771,-361.5 771,-405.5 771,-405.5 771,-411.5 765,-417.5 759,-417.5\"/>\n<text text-anchor=\"start\" x=\"664.5\" y=\"-402.3\" font-family=\"Helvetica,sans-Serif\" font-size=\"14.00\">entropy = 0.0</text>\n<text text-anchor=\"start\" x=\"659\" y=\"-387.3\" font-family=\"Helvetica,sans-Serif\" font-size=\"14.00\">samples = 340</text>\n<text text-anchor=\"start\" x=\"650\" y=\"-372.3\" font-family=\"Helvetica,sans-Serif\" font-size=\"14.00\">value = [0, 0, 340]</text>\n<text text-anchor=\"start\" x=\"656.5\" y=\"-357.3\" font-family=\"Helvetica,sans-Serif\" font-size=\"14.00\">class = virginica</text>\n</g>\n<!-- 12&#45;&gt;16 -->\n<g id=\"edge16\" class=\"edge\">\n<title>12&#45;&gt;16</title>\n<path fill=\"none\" stroke=\"black\" d=\"M602.01,-460.91C618.46,-448.88 636.44,-435.73 652.77,-423.79\"/>\n<polygon fill=\"black\" stroke=\"black\" points=\"655.14,-426.39 661.14,-417.67 651.01,-420.74 655.14,-426.39\"/>\n</g>\n<!-- 14 -->\n<g id=\"node15\" class=\"node\">\n<title>14</title>\n<path fill=\"#8139e5\" stroke=\"black\" d=\"M590,-298.5C590,-298.5 493,-298.5 493,-298.5 487,-298.5 481,-292.5 481,-286.5 481,-286.5 481,-242.5 481,-242.5 481,-236.5 487,-230.5 493,-230.5 493,-230.5 590,-230.5 590,-230.5 596,-230.5 602,-236.5 602,-242.5 602,-242.5 602,-286.5 602,-286.5 602,-292.5 596,-298.5 590,-298.5\"/>\n<text text-anchor=\"start\" x=\"499.5\" y=\"-283.3\" font-family=\"Helvetica,sans-Serif\" font-size=\"14.00\">entropy = 0.0</text>\n<text text-anchor=\"start\" x=\"498\" y=\"-268.3\" font-family=\"Helvetica,sans-Serif\" font-size=\"14.00\">samples = 16</text>\n<text text-anchor=\"start\" x=\"489\" y=\"-253.3\" font-family=\"Helvetica,sans-Serif\" font-size=\"14.00\">value = [0, 0, 16]</text>\n<text text-anchor=\"start\" x=\"491.5\" y=\"-238.3\" font-family=\"Helvetica,sans-Serif\" font-size=\"14.00\">class = virginica</text>\n</g>\n<!-- 13&#45;&gt;14 -->\n<g id=\"edge14\" class=\"edge\">\n<title>13&#45;&gt;14</title>\n<path fill=\"none\" stroke=\"black\" d=\"M544.77,-341.91C544.31,-331.2 543.81,-319.62 543.35,-308.78\"/>\n<polygon fill=\"black\" stroke=\"black\" points=\"546.84,-308.51 542.92,-298.67 539.85,-308.81 546.84,-308.51\"/>\n</g>\n<!-- 15 -->\n<g id=\"node16\" class=\"node\">\n<title>15</title>\n<path fill=\"#39e581\" stroke=\"black\" d=\"M735,-298.5C735,-298.5 632,-298.5 632,-298.5 626,-298.5 620,-292.5 620,-286.5 620,-286.5 620,-242.5 620,-242.5 620,-236.5 626,-230.5 632,-230.5 632,-230.5 735,-230.5 735,-230.5 741,-230.5 747,-236.5 747,-242.5 747,-242.5 747,-286.5 747,-286.5 747,-292.5 741,-298.5 735,-298.5\"/>\n<text text-anchor=\"start\" x=\"641.5\" y=\"-283.3\" font-family=\"Helvetica,sans-Serif\" font-size=\"14.00\">entropy = 0.0</text>\n<text text-anchor=\"start\" x=\"644\" y=\"-268.3\" font-family=\"Helvetica,sans-Serif\" font-size=\"14.00\">samples = 7</text>\n<text text-anchor=\"start\" x=\"635\" y=\"-253.3\" font-family=\"Helvetica,sans-Serif\" font-size=\"14.00\">value = [0, 7, 0]</text>\n<text text-anchor=\"start\" x=\"628\" y=\"-238.3\" font-family=\"Helvetica,sans-Serif\" font-size=\"14.00\">class = versicolor</text>\n</g>\n<!-- 13&#45;&gt;15 -->\n<g id=\"edge15\" class=\"edge\">\n<title>13&#45;&gt;15</title>\n<path fill=\"none\" stroke=\"black\" d=\"M594.03,-341.91C607.86,-330.1 622.94,-317.22 636.72,-305.45\"/>\n<polygon fill=\"black\" stroke=\"black\" points=\"639.33,-307.82 644.66,-298.67 634.79,-302.5 639.33,-307.82\"/>\n</g>\n</g>\n</svg>\n",
      "text/plain": [
       "<graphviz.sources.Source at 0x26850e01250>"
      ]
     },
     "execution_count": 185,
     "metadata": {},
     "output_type": "execute_result"
    }
   ],
   "source": [
    "dot_data = tree.export_graphviz(clf_inflated, out_file=None, feature_names=iris.feature_names, class_names=iris.target_names, filled=True, rounded=True, special_characters=True)  \n",
    "graph = graphviz.Source(dot_data)  \n",
    "graph"
   ]
  },
  {
   "cell_type": "markdown",
   "metadata": {},
   "source": [
    "## 2) Modify the weight of some classes (set to 10 the weights for misclassification between virginica into versicolor and vice versa) and learn the tree in these conditions. You should obtain similar results as for step 1."
   ]
  },
  {
   "cell_type": "code",
   "execution_count": 189,
   "metadata": {},
   "outputs": [
    {
     "data": {
      "text/html": [
       "<div>\n",
       "<style scoped>\n",
       "    .dataframe tbody tr th:only-of-type {\n",
       "        vertical-align: middle;\n",
       "    }\n",
       "\n",
       "    .dataframe tbody tr th {\n",
       "        vertical-align: top;\n",
       "    }\n",
       "\n",
       "    .dataframe thead th {\n",
       "        text-align: right;\n",
       "    }\n",
       "</style>\n",
       "<table border=\"1\" class=\"dataframe\">\n",
       "  <thead>\n",
       "    <tr style=\"text-align: right;\">\n",
       "      <th></th>\n",
       "      <th>0</th>\n",
       "      <th>1</th>\n",
       "      <th>2</th>\n",
       "      <th>3</th>\n",
       "      <th>4</th>\n",
       "      <th>5</th>\n",
       "      <th>6</th>\n",
       "      <th>7</th>\n",
       "      <th>8</th>\n",
       "      <th>9</th>\n",
       "      <th>...</th>\n",
       "      <th>20</th>\n",
       "      <th>21</th>\n",
       "      <th>22</th>\n",
       "      <th>23</th>\n",
       "      <th>24</th>\n",
       "      <th>25</th>\n",
       "      <th>26</th>\n",
       "      <th>27</th>\n",
       "      <th>28</th>\n",
       "      <th>29</th>\n",
       "    </tr>\n",
       "  </thead>\n",
       "  <tbody>\n",
       "    <tr>\n",
       "      <th>prediction</th>\n",
       "      <td>2</td>\n",
       "      <td>1</td>\n",
       "      <td>0</td>\n",
       "      <td>1</td>\n",
       "      <td>2</td>\n",
       "      <td>0</td>\n",
       "      <td>1</td>\n",
       "      <td>1</td>\n",
       "      <td>0</td>\n",
       "      <td>1</td>\n",
       "      <td>...</td>\n",
       "      <td>1</td>\n",
       "      <td>2</td>\n",
       "      <td>1</td>\n",
       "      <td>1</td>\n",
       "      <td>1</td>\n",
       "      <td>2</td>\n",
       "      <td>1</td>\n",
       "      <td>1</td>\n",
       "      <td>2</td>\n",
       "      <td>2</td>\n",
       "    </tr>\n",
       "    <tr>\n",
       "      <th>reference</th>\n",
       "      <td>2</td>\n",
       "      <td>1</td>\n",
       "      <td>0</td>\n",
       "      <td>1</td>\n",
       "      <td>2</td>\n",
       "      <td>0</td>\n",
       "      <td>1</td>\n",
       "      <td>1</td>\n",
       "      <td>0</td>\n",
       "      <td>1</td>\n",
       "      <td>...</td>\n",
       "      <td>1</td>\n",
       "      <td>2</td>\n",
       "      <td>1</td>\n",
       "      <td>2</td>\n",
       "      <td>2</td>\n",
       "      <td>2</td>\n",
       "      <td>1</td>\n",
       "      <td>1</td>\n",
       "      <td>2</td>\n",
       "      <td>2</td>\n",
       "    </tr>\n",
       "  </tbody>\n",
       "</table>\n",
       "<p>2 rows × 30 columns</p>\n",
       "</div>"
      ],
      "text/plain": [
       "            0   1   2   3   4   5   6   7   8   9   ...  20  21  22  23  24  \\\n",
       "prediction   2   1   0   1   2   0   1   1   0   1  ...   1   2   1   1   1   \n",
       "reference    2   1   0   1   2   0   1   1   0   1  ...   1   2   1   2   2   \n",
       "\n",
       "            25  26  27  28  29  \n",
       "prediction   2   1   1   2   2  \n",
       "reference    2   1   1   2   2  \n",
       "\n",
       "[2 rows x 30 columns]"
      ]
     },
     "execution_count": 189,
     "metadata": {},
     "output_type": "execute_result"
    }
   ],
   "source": [
    "X,y = load_iris(return_X_y=True)\n",
    "\n",
    "# Get train & test datasets\n",
    "X_train, X_test, y_train, y_test = train_test_split(X, y, test_size=0.20, random_state=random_state)\n",
    "\n",
    "# Learning of the tree applying weights\n",
    "clf_weighted = tree.DecisionTreeClassifier(criterion=\"entropy\", random_state=random_state, min_samples_leaf=min_samples_leaf, class_weight={0:1,1:10,2:10})\n",
    "clf_weighted.fit(X_train, y_train)\n",
    "\n",
    "# Get predictions\n",
    "y_pred_w = clf_weighted.predict(X_test)\n",
    "\n",
    "# Show pairs\n",
    "pd.DataFrame(np.column_stack((y_pred_w, y_test)).T, index=['prediction', 'reference'])"
   ]
  },
  {
   "cell_type": "markdown",
   "metadata": {},
   "source": [
    "### Evaluation"
   ]
  },
  {
   "cell_type": "code",
   "execution_count": 190,
   "metadata": {},
   "outputs": [
    {
     "name": "stdout",
     "output_type": "stream",
     "text": [
      "Accuracy: 86.66666666666667%\n",
      "F1 Score: 88.3838383838384%\n"
     ]
    }
   ],
   "source": [
    "accuracy = accuracy_score(y_test, y_pred_w)\n",
    "f1 = f1_score(y_test, y_pred_w, average='macro')\n",
    "\n",
    "print(f'Accuracy: {accuracy * 100}%')\n",
    "print(f'F1 Score: {f1 * 100}%')"
   ]
  },
  {
   "cell_type": "markdown",
   "metadata": {},
   "source": [
    "### Graph"
   ]
  },
  {
   "cell_type": "code",
   "execution_count": 191,
   "metadata": {},
   "outputs": [
    {
     "data": {
      "image/svg+xml": "<?xml version=\"1.0\" encoding=\"UTF-8\" standalone=\"no\"?>\n<!DOCTYPE svg PUBLIC \"-//W3C//DTD SVG 1.1//EN\"\n \"http://www.w3.org/Graphics/SVG/1.1/DTD/svg11.dtd\">\n<!-- Generated by graphviz version 3.0.0 (20220226.1711)\n -->\n<!-- Title: Tree Pages: 1 -->\n<svg width=\"371pt\" height=\"433pt\"\n viewBox=\"0.00 0.00 371.00 433.00\" xmlns=\"http://www.w3.org/2000/svg\" xmlns:xlink=\"http://www.w3.org/1999/xlink\">\n<g id=\"graph0\" class=\"graph\" transform=\"scale(1 1) rotate(0) translate(4 429)\">\n<title>Tree</title>\n<polygon fill=\"white\" stroke=\"transparent\" points=\"-4,4 -4,-429 367,-429 367,4 -4,4\"/>\n<!-- 0 -->\n<g id=\"node1\" class=\"node\">\n<title>0</title>\n<path fill=\"#fcfafe\" stroke=\"black\" d=\"M284.5,-425C284.5,-425 154.5,-425 154.5,-425 148.5,-425 142.5,-419 142.5,-413 142.5,-413 142.5,-354 142.5,-354 142.5,-348 148.5,-342 154.5,-342 154.5,-342 284.5,-342 284.5,-342 290.5,-342 296.5,-348 296.5,-354 296.5,-354 296.5,-413 296.5,-413 296.5,-419 290.5,-425 284.5,-425\"/>\n<text text-anchor=\"start\" x=\"152\" y=\"-409.8\" font-family=\"Helvetica,sans-Serif\" font-size=\"14.00\">petal width (cm) ≤ 1.7</text>\n<text text-anchor=\"start\" x=\"169.5\" y=\"-394.8\" font-family=\"Helvetica,sans-Serif\" font-size=\"14.00\">entropy = 1.246</text>\n<text text-anchor=\"start\" x=\"172\" y=\"-379.8\" font-family=\"Helvetica,sans-Serif\" font-size=\"14.00\">samples = 120</text>\n<text text-anchor=\"start\" x=\"150.5\" y=\"-364.8\" font-family=\"Helvetica,sans-Serif\" font-size=\"14.00\">value = [43, 380, 390]</text>\n<text text-anchor=\"start\" x=\"169.5\" y=\"-349.8\" font-family=\"Helvetica,sans-Serif\" font-size=\"14.00\">class = virginica</text>\n</g>\n<!-- 1 -->\n<g id=\"node2\" class=\"node\">\n<title>1</title>\n<path fill=\"#58e995\" stroke=\"black\" d=\"M204,-306C204,-306 77,-306 77,-306 71,-306 65,-300 65,-294 65,-294 65,-235 65,-235 65,-229 71,-223 77,-223 77,-223 204,-223 204,-223 210,-223 216,-229 216,-235 216,-235 216,-294 216,-294 216,-300 210,-306 204,-306\"/>\n<text text-anchor=\"start\" x=\"73\" y=\"-290.8\" font-family=\"Helvetica,sans-Serif\" font-size=\"14.00\">petal width (cm) ≤ 0.8</text>\n<text text-anchor=\"start\" x=\"90.5\" y=\"-275.8\" font-family=\"Helvetica,sans-Serif\" font-size=\"14.00\">entropy = 0.718</text>\n<text text-anchor=\"start\" x=\"97\" y=\"-260.8\" font-family=\"Helvetica,sans-Serif\" font-size=\"14.00\">samples = 83</text>\n<text text-anchor=\"start\" x=\"75.5\" y=\"-245.8\" font-family=\"Helvetica,sans-Serif\" font-size=\"14.00\">value = [43, 380, 20]</text>\n<text text-anchor=\"start\" x=\"85\" y=\"-230.8\" font-family=\"Helvetica,sans-Serif\" font-size=\"14.00\">class = versicolor</text>\n</g>\n<!-- 0&#45;&gt;1 -->\n<g id=\"edge1\" class=\"edge\">\n<title>0&#45;&gt;1</title>\n<path fill=\"none\" stroke=\"black\" d=\"M192.09,-341.91C186.09,-333.01 179.67,-323.51 173.47,-314.33\"/>\n<polygon fill=\"black\" stroke=\"black\" points=\"176.36,-312.35 167.86,-306.02 170.56,-316.27 176.36,-312.35\"/>\n<text text-anchor=\"middle\" x=\"163.1\" y=\"-326.86\" font-family=\"Helvetica,sans-Serif\" font-size=\"14.00\">True</text>\n</g>\n<!-- 6 -->\n<g id=\"node7\" class=\"node\">\n<title>6</title>\n<path fill=\"#8139e5\" stroke=\"black\" d=\"M351,-298.5C351,-298.5 246,-298.5 246,-298.5 240,-298.5 234,-292.5 234,-286.5 234,-286.5 234,-242.5 234,-242.5 234,-236.5 240,-230.5 246,-230.5 246,-230.5 351,-230.5 351,-230.5 357,-230.5 363,-236.5 363,-242.5 363,-242.5 363,-286.5 363,-286.5 363,-292.5 357,-298.5 351,-298.5\"/>\n<text text-anchor=\"start\" x=\"256.5\" y=\"-283.3\" font-family=\"Helvetica,sans-Serif\" font-size=\"14.00\">entropy = 0.0</text>\n<text text-anchor=\"start\" x=\"255\" y=\"-268.3\" font-family=\"Helvetica,sans-Serif\" font-size=\"14.00\">samples = 37</text>\n<text text-anchor=\"start\" x=\"242\" y=\"-253.3\" font-family=\"Helvetica,sans-Serif\" font-size=\"14.00\">value = [0, 0, 370]</text>\n<text text-anchor=\"start\" x=\"248.5\" y=\"-238.3\" font-family=\"Helvetica,sans-Serif\" font-size=\"14.00\">class = virginica</text>\n</g>\n<!-- 0&#45;&gt;6 -->\n<g id=\"edge6\" class=\"edge\">\n<title>0&#45;&gt;6</title>\n<path fill=\"none\" stroke=\"black\" d=\"M246.91,-341.91C254.51,-330.65 262.77,-318.42 270.41,-307.11\"/>\n<polygon fill=\"black\" stroke=\"black\" points=\"273.41,-308.91 276.11,-298.67 267.61,-305 273.41,-308.91\"/>\n<text text-anchor=\"middle\" x=\"280.86\" y=\"-319.51\" font-family=\"Helvetica,sans-Serif\" font-size=\"14.00\">False</text>\n</g>\n<!-- 2 -->\n<g id=\"node3\" class=\"node\">\n<title>2</title>\n<path fill=\"#e58139\" stroke=\"black\" d=\"M109,-179.5C109,-179.5 12,-179.5 12,-179.5 6,-179.5 0,-173.5 0,-167.5 0,-167.5 0,-123.5 0,-123.5 0,-117.5 6,-111.5 12,-111.5 12,-111.5 109,-111.5 109,-111.5 115,-111.5 121,-117.5 121,-123.5 121,-123.5 121,-167.5 121,-167.5 121,-173.5 115,-179.5 109,-179.5\"/>\n<text text-anchor=\"start\" x=\"18.5\" y=\"-164.3\" font-family=\"Helvetica,sans-Serif\" font-size=\"14.00\">entropy = 0.0</text>\n<text text-anchor=\"start\" x=\"17\" y=\"-149.3\" font-family=\"Helvetica,sans-Serif\" font-size=\"14.00\">samples = 43</text>\n<text text-anchor=\"start\" x=\"8\" y=\"-134.3\" font-family=\"Helvetica,sans-Serif\" font-size=\"14.00\">value = [43, 0, 0]</text>\n<text text-anchor=\"start\" x=\"14.5\" y=\"-119.3\" font-family=\"Helvetica,sans-Serif\" font-size=\"14.00\">class = setosa</text>\n</g>\n<!-- 1&#45;&gt;2 -->\n<g id=\"edge2\" class=\"edge\">\n<title>1&#45;&gt;2</title>\n<path fill=\"none\" stroke=\"black\" d=\"M112.74,-222.91C105.05,-211.65 96.68,-199.42 88.95,-188.11\"/>\n<polygon fill=\"black\" stroke=\"black\" points=\"91.71,-185.95 83.18,-179.67 85.93,-189.9 91.71,-185.95\"/>\n</g>\n<!-- 3 -->\n<g id=\"node4\" class=\"node\">\n<title>3</title>\n<path fill=\"#43e688\" stroke=\"black\" d=\"M292,-187C292,-187 151,-187 151,-187 145,-187 139,-181 139,-175 139,-175 139,-116 139,-116 139,-110 145,-104 151,-104 151,-104 292,-104 292,-104 298,-104 304,-110 304,-116 304,-116 304,-175 304,-175 304,-181 298,-187 292,-187\"/>\n<text text-anchor=\"start\" x=\"147\" y=\"-171.8\" font-family=\"Helvetica,sans-Serif\" font-size=\"14.00\">petal length (cm) ≤ 4.75</text>\n<text text-anchor=\"start\" x=\"171.5\" y=\"-156.8\" font-family=\"Helvetica,sans-Serif\" font-size=\"14.00\">entropy = 0.286</text>\n<text text-anchor=\"start\" x=\"178\" y=\"-141.8\" font-family=\"Helvetica,sans-Serif\" font-size=\"14.00\">samples = 40</text>\n<text text-anchor=\"start\" x=\"161\" y=\"-126.8\" font-family=\"Helvetica,sans-Serif\" font-size=\"14.00\">value = [0, 380, 20]</text>\n<text text-anchor=\"start\" x=\"166\" y=\"-111.8\" font-family=\"Helvetica,sans-Serif\" font-size=\"14.00\">class = versicolor</text>\n</g>\n<!-- 1&#45;&gt;3 -->\n<g id=\"edge3\" class=\"edge\">\n<title>1&#45;&gt;3</title>\n<path fill=\"none\" stroke=\"black\" d=\"M168.6,-222.91C174.76,-214.01 181.34,-204.51 187.69,-195.33\"/>\n<polygon fill=\"black\" stroke=\"black\" points=\"190.63,-197.24 193.45,-187.02 184.88,-193.25 190.63,-197.24\"/>\n</g>\n<!-- 4 -->\n<g id=\"node5\" class=\"node\">\n<title>4</title>\n<path fill=\"#39e581\" stroke=\"black\" d=\"M200,-68C200,-68 95,-68 95,-68 89,-68 83,-62 83,-56 83,-56 83,-12 83,-12 83,-6 89,0 95,0 95,0 200,0 200,0 206,0 212,-6 212,-12 212,-12 212,-56 212,-56 212,-62 206,-68 200,-68\"/>\n<text text-anchor=\"start\" x=\"105.5\" y=\"-52.8\" font-family=\"Helvetica,sans-Serif\" font-size=\"14.00\">entropy = 0.0</text>\n<text text-anchor=\"start\" x=\"104\" y=\"-37.8\" font-family=\"Helvetica,sans-Serif\" font-size=\"14.00\">samples = 35</text>\n<text text-anchor=\"start\" x=\"91\" y=\"-22.8\" font-family=\"Helvetica,sans-Serif\" font-size=\"14.00\">value = [0, 350, 0]</text>\n<text text-anchor=\"start\" x=\"92\" y=\"-7.8\" font-family=\"Helvetica,sans-Serif\" font-size=\"14.00\">class = versicolor</text>\n</g>\n<!-- 3&#45;&gt;4 -->\n<g id=\"edge4\" class=\"edge\">\n<title>3&#45;&gt;4</title>\n<path fill=\"none\" stroke=\"black\" d=\"M193.95,-103.73C187.97,-94.88 181.63,-85.51 175.63,-76.63\"/>\n<polygon fill=\"black\" stroke=\"black\" points=\"178.5,-74.63 170,-68.3 172.7,-78.54 178.5,-74.63\"/>\n</g>\n<!-- 5 -->\n<g id=\"node6\" class=\"node\">\n<title>5</title>\n<path fill=\"#bdf6d5\" stroke=\"black\" d=\"M347,-68C347,-68 242,-68 242,-68 236,-68 230,-62 230,-56 230,-56 230,-12 230,-12 230,-6 236,0 242,0 242,0 347,0 347,0 353,0 359,-6 359,-12 359,-12 359,-56 359,-56 359,-62 353,-68 347,-68\"/>\n<text text-anchor=\"start\" x=\"244.5\" y=\"-52.8\" font-family=\"Helvetica,sans-Serif\" font-size=\"14.00\">entropy = 0.971</text>\n<text text-anchor=\"start\" x=\"255\" y=\"-37.8\" font-family=\"Helvetica,sans-Serif\" font-size=\"14.00\">samples = 5</text>\n<text text-anchor=\"start\" x=\"238\" y=\"-22.8\" font-family=\"Helvetica,sans-Serif\" font-size=\"14.00\">value = [0, 30, 20]</text>\n<text text-anchor=\"start\" x=\"239\" y=\"-7.8\" font-family=\"Helvetica,sans-Serif\" font-size=\"14.00\">class = versicolor</text>\n</g>\n<!-- 3&#45;&gt;5 -->\n<g id=\"edge5\" class=\"edge\">\n<title>3&#45;&gt;5</title>\n<path fill=\"none\" stroke=\"black\" d=\"M248.68,-103.73C254.58,-94.88 260.83,-85.51 266.75,-76.63\"/>\n<polygon fill=\"black\" stroke=\"black\" points=\"269.67,-78.56 272.3,-68.3 263.84,-74.68 269.67,-78.56\"/>\n</g>\n</g>\n</svg>\n",
      "text/plain": [
       "<graphviz.sources.Source at 0x26850dbd3d0>"
      ]
     },
     "execution_count": 191,
     "metadata": {},
     "output_type": "execute_result"
    }
   ],
   "source": [
    "dot_data = tree.export_graphviz(clf_weighted, out_file=None, feature_names=iris.feature_names, class_names=iris.target_names, filled=True, rounded=True, special_characters=True)  \n",
    "graph = graphviz.Source(dot_data)  \n",
    "graph"
   ]
  },
  {
   "cell_type": "markdown",
   "metadata": {},
   "source": [
    "## 3) Learn trees but avoid overfitting (by improving the error on the test set) tuning the parameters on: the minimum number of samples per leaf, max depth of the tree, min_impurity_decrease parameters, max leaf nodes, etc."
   ]
  },
  {
   "cell_type": "code",
   "execution_count": null,
   "metadata": {},
   "outputs": [],
   "source": []
  }
 ],
 "metadata": {
  "interpreter": {
   "hash": "c45cb57a8e615f538fcf6c9f1cc2590ada0a8328b3cfcbe1c20f2dcc2b08d1fe"
  },
  "kernelspec": {
   "display_name": "Python 3.8.2 64-bit ('pyVenv': venv)",
   "language": "python",
   "name": "python3"
  },
  "language_info": {
   "codemirror_mode": {
    "name": "ipython",
    "version": 3
   },
   "file_extension": ".py",
   "mimetype": "text/x-python",
   "name": "python",
   "nbconvert_exporter": "python",
   "pygments_lexer": "ipython3",
   "version": "3.8.6"
  },
  "orig_nbformat": 2
 },
 "nbformat": 4,
 "nbformat_minor": 2
}
